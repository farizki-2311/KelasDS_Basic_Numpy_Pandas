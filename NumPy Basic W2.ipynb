{
 "cells": [
  {
   "cell_type": "markdown",
   "id": "bd89a572",
   "metadata": {},
   "source": [
    "# Struktur Data pada NumPy\n",
    "Struktur data utama dalam NumPy adalah array N-dimensi, yang juga dikenal sebagai ndarray. Ndarray merupakan kumpulan elemen dengan tipe data yang sama, yang diatur dalam bentuk N-dimensi (misalnya vektor, matriks, atau tensor).\n",
    "\n",
    "<!-- (n-dimensional array) bisa digunakan untuk merepresentasikan vektor dan matriks, serta struktur data berdimensi lebih tinggi (misalnya tensor). Jadi, dalam hal ini, kita bisa mengatakan bahwa NumPy menggunakan struktur data yang bisa digunakan untuk merepresentasikan vektor dan matriks, tetapi itu bukan satu-satunya penggunaannya. -->"
   ]
  },
  {
   "cell_type": "markdown",
   "id": "2a6ccf36",
   "metadata": {},
   "source": [
    "## Homogenitas"
   ]
  },
  {
   "cell_type": "markdown",
   "id": "2a7cbef5",
   "metadata": {},
   "source": [
    "Homogenitas dalam konteks ndarray NumPy mengacu pada kenyataan bahwa semua elemen dalam sebuah array harus memiliki tipe data yang sama. Dalam struktur data ndarray, elemen-elemen yang memiliki tipe data yang berbeda tidak diperbolehkan. Hal ini membedakan ndarray dari struktur data Python lainnya, seperti list, yang memungkinkan elemen-elemen dengan tipe data yang berbeda.\n",
    "\n",
    "Alasan homogenitas dalam ndarray penting adalah karena ini memungkinkan NumPy untuk menyimpan dan mengakses data secara lebih efisien. Dikarenakan semua elemen memiliki tipe data yang sama, NumPy dapat menyimpan data dalam blok memori yang kontigu dan melakukan operasi dengan lebih cepat daripada struktur data yang memungkinkan elemen dengan tipe data yang berbeda. Homogenitas juga memudahkan dalam melakukan operasi matematika pada array, karena operasi tersebut memerlukan konsistensi tipe data untuk menghasilkan hasil yang benar dan konsisten.\n",
    "\n",
    "Sebagai contoh, berikut ini adalah pembuatan ndarray yang homogen:"
   ]
  },
  {
   "cell_type": "code",
   "execution_count": 2,
   "id": "439959a1",
   "metadata": {},
   "outputs": [],
   "source": [
    "import numpy as np\n",
    "\n",
    "# Membuat array dengan elemen bertipe integer\n",
    "a = np.array([1, 2, 3, 4, 5], dtype=int)\n",
    "\n",
    "# Membuat array dengan elemen bertipe float\n",
    "b = np.array([1.1, 2.2, 3.3, 4.4, 5.5], dtype=float)"
   ]
  },
  {
   "cell_type": "markdown",
   "id": "0eba4b93",
   "metadata": {},
   "source": [
    "Dalam contoh-contoh di atas, semua elemen dalam masing-masing array memiliki tipe data yang sama, yaitu integer atau float. Homogenitas tipe data dalam ndarray NumPy memastikan efisiensi dan konsistensi dalam operasi yang melibatkan array."
   ]
  },
  {
   "cell_type": "markdown",
   "id": "8adaae71",
   "metadata": {},
   "source": [
    "## Ukuran tetap"
   ]
  },
  {
   "cell_type": "markdown",
   "id": "fb61afce",
   "metadata": {},
   "source": [
    "Ukuran tetap dalam konteks ndarray NumPy mengacu pada kenyataan bahwa ukuran (jumlah elemen dan bentuk) dari sebuah array tidak dapat diubah setelah array tersebut dibuat. Dalam struktur data ndarray, setelah Anda menentukan jumlah elemen dan bentuk (shape) array, Anda tidak dapat mengubahnya secara langsung.\n",
    "\n",
    "Alasan ukuran tetap dalam ndarray penting adalah karena ini memungkinkan NumPy untuk mengelola memori secara lebih efisien. Ketika Anda membuat sebuah array, NumPy mengalokasikan blok memori yang tepat untuk menyimpan elemen-elemen array. Jika ukuran array diizinkan untuk berubah secara dinamis, seperti dalam struktur data Python seperti list, maka pengelolaan memori akan menjadi lebih kompleks dan potensi pengurangan kinerja akan terjadi.\n",
    "\n",
    "Jika Anda ingin mengubah ukuran atau bentuk array, Anda harus membuat array baru dengan ukuran atau bentuk yang diinginkan, lalu mengkopi data dari array lama ke array baru. Anda juga dapat menggunakan fungsi seperti numpy.reshape() untuk mengubah bentuk array tanpa mengubah jumlah elemen.\n",
    "\n",
    "Sebagai contoh, berikut ini adalah pembuatan ndarray dengan ukuran tetap:"
   ]
  },
  {
   "cell_type": "code",
   "execution_count": 3,
   "id": "15231236",
   "metadata": {},
   "outputs": [
    {
     "data": {
      "text/plain": [
       "(3, 3)"
      ]
     },
     "execution_count": 3,
     "metadata": {},
     "output_type": "execute_result"
    }
   ],
   "source": [
    "import numpy as np\n",
    "\n",
    "# Membuat array 1D dengan 5 elemen\n",
    "a = np.array([1, 2, 3, 4, 5])\n",
    "\n",
    "# Membuat array 2D dengan 9 elemen (3x3)\n",
    "b = np.array([[1, 2, 3], \n",
    "              [4, 5, 6], \n",
    "              [7, 8, 9]])\n",
    "\n",
    "# Membuat array 3D dengan 8 elemen (2xx2x2)\n",
    "c = np.array([[[1, 2], \n",
    "               [3, 4]], \n",
    "              [[5, 6], \n",
    "               [7, 8]]])\n",
    "b.shape"
   ]
  },
  {
   "cell_type": "code",
   "execution_count": 3,
   "id": "d2a2ec04",
   "metadata": {},
   "outputs": [
    {
     "data": {
      "text/plain": [
       "(3, 2)"
      ]
     },
     "execution_count": 3,
     "metadata": {},
     "output_type": "execute_result"
    }
   ],
   "source": [
    "import numpy as np\n",
    "b = np.array([[1, 2], \n",
    "              [4, 5], \n",
    "              [7, 8]])\n",
    "b.shape"
   ]
  },
  {
   "cell_type": "markdown",
   "id": "63fb9b22",
   "metadata": {},
   "source": [
    "<!-- Dimensi array ini adalah 3, karena memiliki 3 level: 2 blok, setiap blok berisi 2 baris, dan setiap baris berisi 2 kolom. Anda bisa memverifikasi ini dengan c.ndim.\n",
    "\n",
    "Jumlah elemen dalam array ini adalah 8, karena terdapat 2 blok, 2 baris dalam setiap blok, dan 2 kolom dalam setiap baris (2 * 2 * 2 = 8). Anda bisa memverifikasi ini dengan c.size. -->"
   ]
  },
  {
   "cell_type": "markdown",
   "id": "e7e05bb7",
   "metadata": {},
   "source": [
    "Dalam contoh di atas, array a memiliki 5 elemen dan array b memiliki 9 elemen. Anda tidak dapat menambahkan atau mengurangi elemen dalam array ini secara langsung. Namun, Anda dapat membuat array baru dengan ukuran yang berbeda atau mengubah bentuk array menggunakan fungsi seperti numpy.reshape()."
   ]
  },
  {
   "cell_type": "markdown",
   "id": "8643a5fd",
   "metadata": {},
   "source": [
    "## Efisien"
   ]
  },
  {
   "cell_type": "markdown",
   "id": "8dd4898b",
   "metadata": {},
   "source": [
    "Efisien dalam konteks ndarray NumPy mengacu pada kemampuan struktur data ndarray untuk menyimpan dan memanipulasi data secara lebih efisien daripada struktur data bawaan Python seperti list atau tuple. Efisiensi ini dicapai melalui beberapa aspek desain dan implementasi ndarray, yang mencakup:\n",
    "\n",
    "- Penyimpanan data yang kontigu: Ndarray menyimpan data dalam blok memori yang kontigu, yang berarti elemen-elemen dalam array disimpan berdampingan dalam memori. Hal ini memungkinkan NumPy untuk mengakses dan memanipulasi data dengan lebih cepat daripada struktur data seperti list, yang menyimpan data secara tidak kontigu.\n",
    "\n",
    "- Homogenitas tipe data: Seperti yang telah dijelaskan sebelumnya, semua elemen dalam ndarray harus memiliki tipe data yang sama. Homogenitas ini memudahkan NumPy untuk mengoptimalkan operasi dan perhitungan pada array, karena ia hanya perlu mempertimbangkan satu tipe data dalam operasi tersebut.\n",
    "\n",
    "- Operasi vektorisasi: NumPy mendukung operasi vektorisasi, yang memungkinkan Anda untuk melakukan operasi pada seluruh array sekaligus, tanpa perlu menggunakan loop. Vektorisasi memungkinkan NumPy untuk memanfaatkan optimasi pada tingkat prosesor dan mempercepat operasi pada array.\n",
    "\n",
    "- Fungsi universal (ufunc): NumPy menyediakan banyak fungsi universal yang dirancang khusus untuk bekerja dengan ndarray secara efisien. Fungsi-fungsi ini diimplementasikan dalam bahasa C atau Fortran untuk memastikan kinerja yang tinggi dan dikompilasi secara statis ke dalam pustaka NumPy.\n",
    "\n",
    "Contoh efisiensi NumPy dalam operasi:"
   ]
  },
  {
   "cell_type": "code",
   "execution_count": 3,
   "id": "d8c6186a",
   "metadata": {},
   "outputs": [
    {
     "name": "stdout",
     "output_type": "stream",
     "text": [
      "[11 12 13 14 15]\n"
     ]
    }
   ],
   "source": [
    "import numpy as np\n",
    "\n",
    "# Membuat array NumPy\n",
    "a = np.array([1, 2, 3, 4, 5])\n",
    "\n",
    "# Melakukan operasi penambahan pada seluruh elemen array tanpa menggunakan loop\n",
    "b = a + 10\n",
    "\n",
    "print(b)  # Output: array([11, 12, 13, 14, 15])"
   ]
  },
  {
   "cell_type": "markdown",
   "id": "e884100e",
   "metadata": {},
   "source": [
    "Dalam contoh di atas, kita menambahkan 10 ke setiap elemen dalam array a tanpa perlu menggunakan loop. NumPy secara otomatis melakukan operasi ini secara vektorisasi dan menghasilkan array baru b. Efisiensi yang dicapai melalui desain dan implementasi ndarray memungkinkan NumPy untuk melakukan operasi ini dengan sangat cepat dan mengurangi overhead yang biasanya terkait dengan loop dalam Python."
   ]
  },
  {
   "cell_type": "markdown",
   "id": "abd91fb7",
   "metadata": {},
   "source": [
    "## Universal Function"
   ]
  },
  {
   "cell_type": "markdown",
   "id": "6f433fbd",
   "metadata": {},
   "source": [
    "Fungsi universal (ufunc) dalam konteks ndarray NumPy adalah fungsi yang dirancang khusus untuk bekerja dengan array secara efisien. Fungsi universal mengambil satu atau beberapa input ndarray dan menghasilkan output ndarray. Ufunc dirancang untuk memproses array elemen-demi-elemen, dan mengaplikasikan operasi yang didefinisikan pada setiap elemen secara vektorisasi. Vektorisasi mengacu pada teknik di mana operasi dilakukan pada seluruh array sekaligus, tanpa perlu menggunakan loop.\n",
    "\n",
    "Fungsi universal menyediakan beberapa keuntungan:\n",
    "\n",
    "- Kinerja: Ufunc diimplementasikan dalam bahasa C atau Fortran, yang menyediakan kinerja yang lebih baik daripada operasi ekuivalen yang ditulis dalam Python murni. Dengan mengkompilasi ufunc ke dalam pustaka NumPy, mereka dapat memanfaatkan optimasi pada tingkat prosesor dan mempercepat operasi pada array.\n",
    "\n",
    "- Kemudahan penggunaan: Karena ufunc bekerja secara otomatis pada elemen array, Anda tidak perlu menulis loop untuk mengaplikasikan operasi pada setiap elemen array. Hal ini membuat kode Anda lebih mudah dibaca dan lebih pendek.\n",
    "\n",
    "- Konsistensi: Ufunc menyediakan konsistensi dalam operasi pada array, karena mereka dirancang untuk bekerja dengan ndarray dengan cara yang sama, terlepas dari tipe data atau bentuk array.\n",
    "\n",
    "Beberapa contoh fungsi universal yang umum digunakan dalam NumPy meliputi:\n",
    "\n",
    "- Operasi aritmatika: np.add(), np.subtract(), np.multiply(), np.divide(), dll.\n",
    "- Operasi trigonometri: np.sin(), np.cos(), np.tan(), dll.\n",
    "- Operasi logaritma: np.log(), np.log10(), np.log2(), dll.\n",
    "- Operasi perbandingan: np.greater(), np.less(), np.equal(), dll.\n",
    "\n",
    "Contoh penggunaan fungsi universal:"
   ]
  },
  {
   "cell_type": "code",
   "execution_count": 4,
   "id": "0f5bb69a",
   "metadata": {},
   "outputs": [
    {
     "name": "stdout",
     "output_type": "stream",
     "text": [
      "[6 6 6 6 6]\n",
      "[ 0.84147098  0.90929743  0.14112001 -0.7568025  -0.95892427]\n"
     ]
    }
   ],
   "source": [
    "import numpy as np\n",
    "\n",
    "# Membuat array NumPy\n",
    "a = np.array([1, 2, 3, 4, 5])\n",
    "b = np.array([5, 4, 3, 2, 1])\n",
    "\n",
    "# Menggunakan fungsi universal np.add() untuk menambahkan elemen a dan b\n",
    "c = np.add(a, b)\n",
    "\n",
    "print(c)  # Output: array([6, 6, 6, 6, 6])\n",
    "\n",
    "# Menggunakan fungsi universal np.sin() pada array a\n",
    "d = np.sin(a)\n",
    "\n",
    "print(d)  # Output: array([ 0.84147098,  0.90929743,  0.14112001, -0.7568025 , -0.95892427])"
   ]
  },
  {
   "cell_type": "markdown",
   "id": "dbcc3e3c",
   "metadata": {},
   "source": [
    "Dalam contoh di atas, kita menggunakan fungsi universal np.add() untuk menambahkan elemen array a dan b, dan np.sin() untuk menghitung sinus dari setiap elemen dalam array a. Operasi ini dilakukan secara vektorisasi dan menghasilkan output ndarray."
   ]
  },
  {
   "cell_type": "markdown",
   "id": "d645c1ec",
   "metadata": {},
   "source": [
    "# Soal Vector & Matrix  pada NumPy"
   ]
  },
  {
   "cell_type": "markdown",
   "id": "69224d2b",
   "metadata": {},
   "source": [
    "Berikut ini adalah lima soal yang mencakup Homogenitas, Ukuran tetap, Efisien, dan Fungsi universal dalam konteks NumPy:"
   ]
  },
  {
   "cell_type": "markdown",
   "id": "e61d0937",
   "metadata": {},
   "source": [
    "### Soal 1: Homogenitas - Vektor\n",
    "Diberikan dua vektor dalam bentuk list Python:"
   ]
  },
  {
   "cell_type": "code",
   "execution_count": 5,
   "id": "ff31dcdc",
   "metadata": {},
   "outputs": [],
   "source": [
    "vector_a = [1, 2, 3]\n",
    "vector_b = [1, 2, 'tiga']"
   ]
  },
  {
   "cell_type": "markdown",
   "id": "000dca7b",
   "metadata": {},
   "source": [
    "Manakah di antara kedua vektor ini yang dapat dikonversi menjadi ndarray NumPy yang homogen? Jelaskan mengapa atau mengapa tidak."
   ]
  },
  {
   "cell_type": "code",
   "execution_count": 8,
   "id": "728b3d0c",
   "metadata": {},
   "outputs": [
    {
     "name": "stdout",
     "output_type": "stream",
     "text": [
      "[1 2 3]\n",
      "['1' '2' 'tiga']\n"
     ]
    }
   ],
   "source": [
    "# Jawab \n",
    "vector_a = np.array([1, 2, 3])\n",
    "vector_b = np.array([1, 2, 'tiga'])\n",
    "print(vector_a)\n",
    "print(vector_b)"
   ]
  },
  {
   "cell_type": "markdown",
   "id": "93e004a7",
   "metadata": {},
   "source": [
    "Prinsip homogenitas pada Numpy mensyaratkan suatu vector/ ndarray memiliki nilai/ value yang sama, dimana lebih lanjutnya melalui prinsip ini selain memudahkan komputasi namun juga proses matematis dalam numpy akan berjalan secara smooth.\n",
    "sehingga \"vector_a\" yang merupakan vector yang memenuhi syarat homogenitas."
   ]
  },
  {
   "cell_type": "markdown",
   "id": "0c27265f",
   "metadata": {},
   "source": [
    "### Soal 2: Homogenitas - Matriks\n",
    "Diberikan matriks dalam bentuk list Python:"
   ]
  },
  {
   "cell_type": "code",
   "execution_count": 11,
   "id": "1ccc2dad",
   "metadata": {},
   "outputs": [
    {
     "data": {
      "text/plain": [
       "array([['1', '2', '3'],\n",
       "       ['4', '5', '6'],\n",
       "       ['7', 'delapan', '9']], dtype='<U11')"
      ]
     },
     "execution_count": 11,
     "metadata": {},
     "output_type": "execute_result"
    }
   ],
   "source": [
    "matrix = [\n",
    "    [1, 2, 3],\n",
    "    [4, 5, 6],\n",
    "    [7, 'delapan', 9]\n",
    "]\n",
    "matrix_con = np.array(matrix)\n",
    "matrix_con"
   ]
  },
  {
   "cell_type": "markdown",
   "id": "9640462a",
   "metadata": {},
   "source": [
    "Apakah matriks ini dapat dikonversi menjadi ndarray NumPy yang homogen? Jelaskan mengapa atau mengapa tidak."
   ]
  },
  {
   "cell_type": "markdown",
   "id": "07a50c65",
   "metadata": {},
   "source": [
    "Matrix di atas tidak bisa menjadi matrix ndaary numpy yang homogen, karena terdapat value \"delapan\" yang merupakan string, sedangkan value yang lain memiliki type data \"int\"."
   ]
  },
  {
   "cell_type": "markdown",
   "id": "6ff4a9df",
   "metadata": {},
   "source": [
    "### Soal 3: Ukuran tetap - Vektor\n",
    "Diberikan sebuah vektor ndarray NumPy:"
   ]
  },
  {
   "cell_type": "code",
   "execution_count": 13,
   "id": "dded146f",
   "metadata": {},
   "outputs": [
    {
     "data": {
      "text/plain": [
       "array([1, 2, 3, 4, 5, 6])"
      ]
     },
     "execution_count": 13,
     "metadata": {},
     "output_type": "execute_result"
    }
   ],
   "source": [
    "import numpy as np\n",
    "vector = np.array([1, 2, 3, 4, 5, 6])\n",
    "vector"
   ]
  },
  {
   "cell_type": "markdown",
   "id": "6c7b0fb4",
   "metadata": {},
   "source": [
    "Bagaimana Anda akan mengubah bentuk (reshape) vektor ini menjadi matriks 2D berukuran 2x3 tanpa mengubah jumlah elemennya?"
   ]
  },
  {
   "cell_type": "code",
   "execution_count": 14,
   "id": "c5cf4c6a",
   "metadata": {},
   "outputs": [
    {
     "data": {
      "text/plain": [
       "array([[1, 2, 3],\n",
       "       [4, 5, 6]])"
      ]
     },
     "execution_count": 14,
     "metadata": {},
     "output_type": "execute_result"
    }
   ],
   "source": [
    "vector_reshape = vector.reshape(2,3)\n",
    "vector_reshape"
   ]
  },
  {
   "cell_type": "markdown",
   "id": "84122d61",
   "metadata": {},
   "source": [
    "### Soal 4: Ukuran tetap - Matriks\n",
    "Diberikan sebuah matriks ndarray NumPy:"
   ]
  },
  {
   "cell_type": "code",
   "execution_count": 15,
   "id": "a0b6fb7d",
   "metadata": {},
   "outputs": [],
   "source": [
    "matrix = np.array([\n",
    "    [1, 2, 3],\n",
    "    [4, 5, 6]\n",
    "])"
   ]
  },
  {
   "cell_type": "markdown",
   "id": "1d2e3d4a",
   "metadata": {},
   "source": [
    "Bagaimana Anda akan mengubah bentuk (reshape) matriks ini menjadi tensor 3D berukuran 2x1x3 tanpa mengubah jumlah elemennya?"
   ]
  },
  {
   "cell_type": "code",
   "execution_count": 17,
   "id": "41a216c4",
   "metadata": {},
   "outputs": [
    {
     "data": {
      "text/plain": [
       "array([[[1, 2, 3]],\n",
       "\n",
       "       [[4, 5, 6]]])"
      ]
     },
     "execution_count": 17,
     "metadata": {},
     "output_type": "execute_result"
    }
   ],
   "source": [
    "# Jawab\n",
    "matrix_reshape = matrix.reshape(2,1,3)\n",
    "matrix_reshape"
   ]
  },
  {
   "cell_type": "markdown",
   "id": "32870f49",
   "metadata": {},
   "source": [
    "### Soal 5: Efisien - Vektor\n",
    "Diberikan sebuah vektor ndarray NumPy:"
   ]
  },
  {
   "cell_type": "code",
   "execution_count": 18,
   "id": "8f3f3ad0",
   "metadata": {},
   "outputs": [
    {
     "data": {
      "text/plain": [
       "array([1, 2, 3, 4, 5, 6, 7, 8, 9])"
      ]
     },
     "execution_count": 18,
     "metadata": {},
     "output_type": "execute_result"
    }
   ],
   "source": [
    "vector = np.array([1, 2, 3, 4, 5, 6, 7, 8, 9])\n",
    "vector"
   ]
  },
  {
   "cell_type": "markdown",
   "id": "2dce5215",
   "metadata": {},
   "source": [
    "Tunjukkan bagaimana Anda akan mengalikan setiap elemen vektor ini dengan 3 secara efisien, tanpa menggunakan loop."
   ]
  },
  {
   "cell_type": "code",
   "execution_count": 21,
   "id": "22217b2d",
   "metadata": {},
   "outputs": [
    {
     "data": {
      "text/plain": [
       "array([ 3,  6,  9, 12, 15, 18, 21, 24, 27])"
      ]
     },
     "execution_count": 21,
     "metadata": {},
     "output_type": "execute_result"
    }
   ],
   "source": [
    "# Jawab\n",
    "vector_multiply = np.multiply(vector,3)\n",
    "vector_multiply"
   ]
  },
  {
   "cell_type": "markdown",
   "id": "2db97dc6",
   "metadata": {},
   "source": [
    "### Soal 6: Efisien - Matriks\n",
    "Diberikan sebuah matriks ndarray NumPy:"
   ]
  },
  {
   "cell_type": "code",
   "execution_count": 24,
   "id": "ee603ec4",
   "metadata": {},
   "outputs": [
    {
     "data": {
      "text/plain": [
       "array([[1, 2, 3],\n",
       "       [4, 5, 6],\n",
       "       [7, 8, 9]])"
      ]
     },
     "execution_count": 24,
     "metadata": {},
     "output_type": "execute_result"
    }
   ],
   "source": [
    "import numpy as np\n",
    "matrix = np.array([\n",
    "    [1, 2, 3],\n",
    "    [4, 5, 6],\n",
    "    [7, 8, 9]\n",
    "])\n",
    "matrix"
   ]
  },
  {
   "cell_type": "markdown",
   "id": "d6060137",
   "metadata": {},
   "source": [
    "Tunjukkan bagaimana Anda akan mengalikan setiap elemen matriks ini dengan 4 secara efisien, tanpa menggunakan loop."
   ]
  },
  {
   "cell_type": "code",
   "execution_count": 27,
   "id": "69c3152e",
   "metadata": {},
   "outputs": [
    {
     "data": {
      "text/plain": [
       "array([[ 4,  8, 12],\n",
       "       [16, 20, 24],\n",
       "       [28, 32, 36]])"
      ]
     },
     "execution_count": 27,
     "metadata": {},
     "output_type": "execute_result"
    }
   ],
   "source": [
    "# Jawab\n",
    "matrix_multiply = np.multiply(matrix, 4)\n",
    "matrix_multiply"
   ]
  },
  {
   "cell_type": "markdown",
   "id": "ee6c0126",
   "metadata": {},
   "source": [
    "### Soal 7: Fungsi universal - Vektor\n",
    "Diberikan sebuah vektor ndarray NumPy:"
   ]
  },
  {
   "cell_type": "code",
   "execution_count": 15,
   "id": "32c16743",
   "metadata": {},
   "outputs": [
    {
     "data": {
      "text/plain": [
       "array([0.        , 1.57079633, 3.14159265, 4.71238898, 6.28318531])"
      ]
     },
     "execution_count": 15,
     "metadata": {},
     "output_type": "execute_result"
    }
   ],
   "source": [
    "import numpy as np\n",
    "vector = np.array([0, np.pi/2, np.pi, 3*np.pi/2, 2*np.pi])\n",
    "vector"
   ]
  },
  {
   "cell_type": "markdown",
   "id": "c5ac920c",
   "metadata": {},
   "source": [
    "Gunakan fungsi universal untuk menghitung sinus dan kosinus dari setiap elemen dalam vektor ini, lalu simpan hasilnya dalam dua vektor baru."
   ]
  },
  {
   "cell_type": "code",
   "execution_count": 33,
   "id": "4eee661a",
   "metadata": {},
   "outputs": [
    {
     "name": "stdout",
     "output_type": "stream",
     "text": [
      "vector sin:  [ 0.84147098  0.90929743  0.14112001 -0.7568025  -0.95892427 -0.2794155\n",
      "  0.6569866   0.98935825  0.41211849]\n",
      "vector cos:  [ 0.54030231 -0.41614684 -0.9899925  -0.65364362  0.28366219  0.96017029\n",
      "  0.75390225 -0.14550003 -0.91113026]\n"
     ]
    }
   ],
   "source": [
    "# Jawab\n",
    "vector_sin = np.sin(vector)\n",
    "print(\"vector sin: \", vector_sin)\n",
    "\n",
    "vector_cos = np.cos(vector)\n",
    "print(\"vector cos: \", vector_cos)"
   ]
  },
  {
   "cell_type": "markdown",
   "id": "2f641572",
   "metadata": {},
   "source": [
    "### Soal 8: Fungsi universal - Matriks\n",
    "Diberikan sebuah matriks ndarray NumPy:"
   ]
  },
  {
   "cell_type": "code",
   "execution_count": 34,
   "id": "7a1afa97",
   "metadata": {},
   "outputs": [
    {
     "data": {
      "text/plain": [
       "array([[0.        , 0.78539816, 1.57079633],\n",
       "       [2.35619449, 3.14159265, 3.92699082],\n",
       "       [4.71238898, 5.49778714, 6.28318531]])"
      ]
     },
     "execution_count": 34,
     "metadata": {},
     "output_type": "execute_result"
    }
   ],
   "source": [
    "matrix = np.array([\n",
    "    [0, np.pi/4, np.pi/2],\n",
    "    [3*np.pi/4, np.pi, 5*np.pi/4],\n",
    "    [3*np.pi/2, 7*np.pi/4, 2*np.pi]\n",
    "])\n",
    "matrix"
   ]
  },
  {
   "cell_type": "markdown",
   "id": "03488185",
   "metadata": {},
   "source": [
    "Gunakan fungsi universal untuk menghitung sinus dan kosinus dari setiap elemen dalam matriks ini, lalu simpan hasilnya dalam dua matriks baru."
   ]
  },
  {
   "cell_type": "code",
   "execution_count": 36,
   "id": "1e47c661",
   "metadata": {},
   "outputs": [
    {
     "name": "stdout",
     "output_type": "stream",
     "text": [
      "matrix sin:  [ 0.84147098  0.90929743  0.14112001 -0.7568025  -0.95892427 -0.2794155\n",
      "  0.6569866   0.98935825  0.41211849]\n",
      "matrix cos:  [ 0.54030231 -0.41614684 -0.9899925  -0.65364362  0.28366219  0.96017029\n",
      "  0.75390225 -0.14550003 -0.91113026]\n"
     ]
    }
   ],
   "source": [
    "# Jawab\n",
    "matrix_sin = np.sin(matrix)\n",
    "print(\"matrix sin: \", vector_sin)\n",
    "\n",
    "matrix_cos = np.cos(matrix)\n",
    "print(\"matrix cos: \", vector_cos)"
   ]
  },
  {
   "cell_type": "markdown",
   "id": "a091c477",
   "metadata": {},
   "source": [
    "# Atribut dan Fungsi pada NumPy Python"
   ]
  },
  {
   "cell_type": "markdown",
   "id": "44f32185",
   "metadata": {},
   "source": [
    "Mari kita gunakan analogi mobil untuk menjelaskan perbedaan antara atribut dan fungsi dalam konteks Numpy atau pemrograman berorientasi objek pada umumnya.\n",
    "\n",
    "Bayangkan bahwa Anda memiliki mobil. Mobil tersebut memiliki berbagai ***atribut***, seperti warna, merek, model, dan tahun pembuatan. Ini semacam data atau informasi yang melekat pada mobil tersebut dan menggambarkan sifat atau karakteristiknya.\n",
    "\n",
    "Di sisi lain, mobil tersebut juga memiliki berbagai ***fungsi*** atau ***metode***. Ini adalah tindakan yang dapat dilakukan oleh mobil, seperti 'berjalan', 'berhenti', 'belok', dan 'klakson'. Fungsi atau metode ini memanipulasi atribut dari mobil atau melakukan tindakan lain yang berhubungan dengannya.\n",
    "\n",
    "Dalam konteks Numpy, atribut dan fungsi berlaku secara serupa. Misalnya, kita memiliki array Numpy:"
   ]
  },
  {
   "cell_type": "code",
   "execution_count": 19,
   "id": "d7c9f7eb",
   "metadata": {},
   "outputs": [],
   "source": [
    "# Membuat array numpy\n",
    "arr = np.array([1, 2, 3, 4, 5])"
   ]
  },
  {
   "cell_type": "markdown",
   "id": "ef0db2b9",
   "metadata": {},
   "source": [
    "Di sini, arr adalah objek array Numpy. Ini memiliki berbagai atribut, seperti shape, size, dan dtype, yang masing-masing menggambarkan bentuk array, jumlah elemen dalam array, dan tipe data elemen dalam array."
   ]
  },
  {
   "cell_type": "code",
   "execution_count": 20,
   "id": "0c460555",
   "metadata": {},
   "outputs": [
    {
     "name": "stdout",
     "output_type": "stream",
     "text": [
      "(5,)\n",
      "5\n",
      "int32\n"
     ]
    }
   ],
   "source": [
    "print(arr.shape)  # atribut shape\n",
    "print(arr.size)  # atribut size\n",
    "print(arr.dtype)  # atribut dtype"
   ]
  },
  {
   "cell_type": "markdown",
   "id": "3e536a01",
   "metadata": {},
   "source": [
    "Array Numpy juga memiliki berbagai fungsi atau metode, seperti mean(), min(), dan max(), yang masing-masing menghitung rata-rata elemen dalam array, nilai minimum dalam array, dan nilai maksimum dalam array."
   ]
  },
  {
   "cell_type": "code",
   "execution_count": 21,
   "id": "7077bbe0",
   "metadata": {},
   "outputs": [
    {
     "name": "stdout",
     "output_type": "stream",
     "text": [
      "3.0\n",
      "1\n",
      "5\n"
     ]
    }
   ],
   "source": [
    "print(arr.mean())  # fungsi mean\n",
    "print(arr.min())  # fungsi min\n",
    "print(arr.max())  # fungsi max"
   ]
  },
  {
   "cell_type": "markdown",
   "id": "0849db1b",
   "metadata": {},
   "source": [
    "Jadi, perbedaan utama antara atribut dan fungsi adalah bahwa atribut adalah karakteristik atau properti dari objek, sedangkan fungsi atau metode adalah tindakan yang dapat dilakukan oleh objek."
   ]
  },
  {
   "cell_type": "markdown",
   "id": "778c18ad",
   "metadata": {},
   "source": [
    "# Atribut Array\n",
    "Setiap array NumPy memiliki beberapa atribut penting yang dapat memberikan informasi tentang array tersebut. Atribut-atribut ini meliputi:\n",
    "\n",
    "- shape: Atribut ini mengembalikan ukuran array dalam bentuk tuple. Misalnya, jika array memiliki 2 baris dan 3 kolom, maka shape akan menghasilkan (2, 3).\n",
    "\n",
    "- ndim: Atribut ini mengembalikan jumlah dimensi array. Sebagai contoh, jika array adalah 1D (vektor), maka ndim akan menghasilkan 1, dan jika array adalah 2D (matriks), maka ndim akan menghasilkan 2.\n",
    "\n",
    "- size: Atribut ini mengembalikan jumlah elemen dalam array. Jumlah ini sama dengan hasil perkalian semua elemen dalam tuple shape.\n",
    "\n",
    "- dtype: Atribut ini mengembalikan tipe data elemen dalam array. Tipe data umum yang digunakan dalam array NumPy meliputi int32, int64, float32, dan float64. Tipe data ini tergantung pada sistem operasi dan data yang disimpan dalam array.\n",
    "\n",
    "Contoh Kode Atribut Array:"
   ]
  },
  {
   "cell_type": "code",
   "execution_count": 22,
   "id": "9882ff61",
   "metadata": {},
   "outputs": [
    {
     "name": "stdout",
     "output_type": "stream",
     "text": [
      "shape: (2, 3)\n",
      "ndim: 2\n",
      "size: 6\n",
      "dtype: int32\n"
     ]
    }
   ],
   "source": [
    "# Membuat array 2D\n",
    "a = np.array([[1, 2, 3], [4, 5, 6]])\n",
    "# Menampilkan atribut shape, ndim, size, dan dtype\n",
    "print(\"shape:\", a.shape)  # Output: (2, 3)\n",
    "print(\"ndim:\", a.ndim)    # Output: 2\n",
    "print(\"size:\", a.size)    # Output: 6\n",
    "print(\"dtype:\", a.dtype)  # Output: int64 (tergantung pada sistem operasi)"
   ]
  },
  {
   "cell_type": "markdown",
   "id": "072f0a41",
   "metadata": {},
   "source": [
    "Dengan memahami atribut-atribut ini, Anda dapat lebih mudah dalam mengelola dan memahami struktur array NumPy ketika bekerja dengan data dalam berbagai dimensi dan ukuran."
   ]
  },
  {
   "cell_type": "markdown",
   "id": "ddf7721d",
   "metadata": {},
   "source": [
    "## Berikut penjelasan lebih rinci dan contoh untuk setiap atribut array NumPy:\n",
    "\n",
    "### Shape\n",
    "`shape`: Atribut ini mengembalikan ukuran array dalam bentuk tuple. Angka dalam tuple menunjukkan jumlah elemen di sepanjang setiap sumbu.\n",
    "\n",
    "Contoh:"
   ]
  },
  {
   "cell_type": "code",
   "execution_count": 23,
   "id": "b520f020",
   "metadata": {},
   "outputs": [
    {
     "name": "stdout",
     "output_type": "stream",
     "text": [
      "shape: (3,)\n",
      "shape: (2, 3)\n"
     ]
    }
   ],
   "source": [
    "# Array 1D\n",
    "a = np.array([1, 2, 3])\n",
    "print(\"shape:\", a.shape)  # Output: (3,)\n",
    "\n",
    "# Array 2D\n",
    "b = np.array([[1, 2, 3], \n",
    "              [4, 5, 6]])\n",
    "print(\"shape:\", b.shape)  # Output: (2, 3)"
   ]
  },
  {
   "cell_type": "markdown",
   "id": "f719d143",
   "metadata": {},
   "source": [
    "### ndim\n",
    "`ndim`: Atribut ini mengembalikan jumlah dimensi array. Jumlah dimensi menunjukkan seberapa \"dalam\" struktur array.\n",
    "\n",
    "Contoh:"
   ]
  },
  {
   "cell_type": "code",
   "execution_count": 24,
   "id": "0bb826ec",
   "metadata": {},
   "outputs": [
    {
     "name": "stdout",
     "output_type": "stream",
     "text": [
      "ndim: 1\n",
      "ndim: 2\n"
     ]
    }
   ],
   "source": [
    "# Array 1D\n",
    "a = np.array([1, 2, 3])\n",
    "print(\"ndim:\", a.ndim)  # Output: 1\n",
    "\n",
    "# Array 2D\n",
    "b = np.array([[1, 2, 3], \n",
    "              [4, 5, 6]])\n",
    "print(\"ndim:\", b.ndim)  # Output: 2"
   ]
  },
  {
   "cell_type": "markdown",
   "id": "9b07530b",
   "metadata": {},
   "source": [
    "### size\n",
    "`size`: Atribut ini mengembalikan jumlah elemen dalam array. Jumlah ini sama dengan hasil perkalian semua elemen dalam tuple shape.\n",
    "\n",
    "Contoh:"
   ]
  },
  {
   "cell_type": "code",
   "execution_count": 25,
   "id": "a79799dd",
   "metadata": {},
   "outputs": [
    {
     "name": "stdout",
     "output_type": "stream",
     "text": [
      "size: 3\n",
      "size: 6\n"
     ]
    }
   ],
   "source": [
    "# Array 1D\n",
    "a = np.array([1, 2, 3])\n",
    "print(\"size:\", a.size)  # Output: 3\n",
    "\n",
    "# Array 2D\n",
    "b = np.array([[1, 2, 3], \n",
    "              [4, 5, 6]])\n",
    "print(\"size:\", b.size)  # Output: 6"
   ]
  },
  {
   "cell_type": "markdown",
   "id": "fa6ac0eb",
   "metadata": {},
   "source": [
    "### dtype\n",
    "`dtype`: Atribut ini mengembalikan tipe data elemen dalam array. Tipe data ini tergantung pada sistem operasi dan data yang disimpan dalam array. Beberapa tipe data umum yang digunakan dalam array NumPy meliputi int32, int64, float32, dan float64.\n",
    "\n",
    "Contoh:"
   ]
  },
  {
   "cell_type": "code",
   "execution_count": 26,
   "id": "95c91222",
   "metadata": {},
   "outputs": [
    {
     "name": "stdout",
     "output_type": "stream",
     "text": [
      "dtype: int32\n",
      "dtype: float64\n",
      "dtype: float32\n"
     ]
    }
   ],
   "source": [
    "import numpy as np\n",
    "\n",
    "# Array 1D dengan tipe data integer\n",
    "a = np.array([1, 2, 3])\n",
    "print(\"dtype:\", a.dtype)  # Output: int64 (tergantung pada sistem operasi)\n",
    "\n",
    "# Array 1D dengan tipe data float\n",
    "b = np.array([1.0, 2.0, 3.0])\n",
    "print(\"dtype:\", b.dtype)  # Output: float64\n",
    "\n",
    "# Array 1D dengan tipe data yang ditentukan secara eksplisit\n",
    "c = np.array([1, 2, 3], dtype=np.float32)\n",
    "print(\"dtype:\", c.dtype)  # Output: float32"
   ]
  },
  {
   "cell_type": "markdown",
   "id": "82e598a0",
   "metadata": {},
   "source": [
    "# Reshape Array\n",
    "\n",
    "Reshape adalah sebuah operasi dalam NumPy yang memungkinkan kita untuk mengubah bentuk atau dimensi dari sebuah array tanpa merubah data yang ada di dalamnya. Ini sangat berguna dalam berbagai situasi dimana kita perlu mengubah dimensi array untuk memenuhi kebutuhan algoritma atau operasi tertentu.\n",
    "\n",
    "Berikut adalah contoh penggunaan metode reshape:\n",
    "\n"
   ]
  },
  {
   "cell_type": "code",
   "execution_count": null,
   "id": "7b04f162",
   "metadata": {},
   "outputs": [],
   "source": [
    "import numpy as np\n",
    "\n",
    "# Membuat array 1D\n",
    "arr = np.array([1, 2, 3, 4, 5, 6, 7, 8])\n",
    "\n",
    "print('Array asli:')\n",
    "print(arr)\n",
    "\n",
    "# Menggunakan reshape untuk mengubah bentuk array menjadi 2D\n",
    "arr_2d = arr.reshape((4, 2))\n",
    "\n",
    "print('\\nArray setelah reshape:')\n",
    "print(arr_2d)"
   ]
  },
  {
   "cell_type": "markdown",
   "id": "84eb71cb",
   "metadata": {},
   "source": [
    "Pada contoh di atas, array asli berdimensi 1 (vektor) diubah bentuknya menjadi array 2D dengan 4 baris dan 2 kolom menggunakan metode reshape.\n",
    "\n",
    "Ada beberapa hal yang perlu diperhatikan saat menggunakan reshape:\n",
    "\n",
    "- Jumlah elemen dalam array sebelum dan sesudah operasi reshape harus sama. Dalam contoh di atas, array asli memiliki 8 elemen dan array hasil reshape juga memiliki 8 elemen (4 baris x 2 kolom).\n",
    "\n",
    "- Anda bisa menggunakan nilai -1 pada salah satu dimensi saat melakukan reshape dan NumPy akan menghitung dimensi tersebut secara otomatis. Misalnya, arr.reshape((-1, 2)) akan menghasilkan array 2D dengan jumlah kolom 2 dan jumlah baris dihitung secara otomatis oleh NumPy.\n",
    "\n",
    "Contoh penggunaan -1 dalam reshape:"
   ]
  },
  {
   "cell_type": "code",
   "execution_count": null,
   "id": "ac587c5f",
   "metadata": {},
   "outputs": [],
   "source": [
    "import numpy as np\n",
    "\n",
    "# Membuat array 1D\n",
    "arr = np.array([1, 2, 3, 4, 5, 6, 7, 8, 9, 10, 11, 12])\n",
    "\n",
    "print('Array asli:')\n",
    "print(arr)\n",
    "\n",
    "# Menggunakan reshape dengan -1\n",
    "arr_2d = arr.reshape((2, -1))\n",
    "\n",
    "print('\\nArray setelah reshape:')\n",
    "print(arr_2d)\n"
   ]
  },
  {
   "cell_type": "markdown",
   "id": "7c314637",
   "metadata": {},
   "source": [
    "Pada contoh di atas, array asli berdimensi 1 (vektor) diubah bentuknya menjadi array 2D dengan 2 baris dan jumlah kolom dihitung otomatis oleh NumPy. Karena jumlah total elemen adalah 12, maka jumlah kolom setelah reshape menjadi 6."
   ]
  },
  {
   "cell_type": "markdown",
   "id": "53230413",
   "metadata": {},
   "source": [
    "# Convert 1D to 2D\n",
    "\n",
    "***Mengubah 1D ke 2D Menggunakan np.newaxis dan np.expand_dims***\n",
    "\n",
    "`np.newaxis` dan `np.expand_dims` adalah dua metode yang bisa digunakan untuk menambah dimensi ke sebuah array di numpy. Kedua metode ini sangat berguna ketika kita ingin mengubah array 1 dimensi (1D) menjadi array 2 dimensi (2D) atau ketika kita ingin menambah dimensi tambahan ke array yang sudah ada.\n",
    "\n",
    "**1. np.newaxis**\n",
    "\n",
    "`np.newaxis` digunakan untuk menambahkan sumbu/axis kosong ke array yang ada. Misalnya, jika kita memiliki array 1D dengan bentuk `(n,)`, kita bisa menggunakan `np.newaxis` untuk mengubah bentuknya menjadi `(n, 1)` (2D kolom vektor) atau `(1, n)` (2D baris vektor).\n",
    "\n",
    "Berikut adalah contoh penggunaannya:"
   ]
  },
  {
   "cell_type": "code",
   "execution_count": 129,
   "id": "37ee3a27",
   "metadata": {},
   "outputs": [
    {
     "name": "stdout",
     "output_type": "stream",
     "text": [
      "[[1]\n",
      " [2]\n",
      " [3]\n",
      " [4]\n",
      " [5]]\n",
      "[[1 2 3 4 5]]\n",
      "Original array shape: (5,)\n",
      "2D column vector shape: (5, 1)\n",
      "2D row vector shape: (1, 5)\n"
     ]
    }
   ],
   "source": [
    "import numpy as np\n",
    "\n",
    "# Buat array 1D\n",
    "arr = np.array([1, 2, 3, 4, 5])\n",
    "\n",
    "# Ubah ke 2D menggunakan np.newaxis\n",
    "arr_2d_col = arr[:, np.newaxis]  # kolom vektor\n",
    "arr_2d_row = arr[np.newaxis, :]  # baris vektor\n",
    "\n",
    "print(arr_2d_col)\n",
    "print(arr_2d_row)\n",
    "print(\"Original array shape:\", arr.shape)\n",
    "print(\"2D column vector shape:\", arr_2d_col.shape)\n",
    "print(\"2D row vector shape:\", arr_2d_row.shape)"
   ]
  },
  {
   "cell_type": "markdown",
   "id": "5643615b",
   "metadata": {},
   "source": [
    "**2. np.expand_dims**\n",
    "\n",
    "`np.expand_dims` berfungsi mirip dengan `np.newaxis`, tetapi ia memiliki sintaks yang lebih eksplisit. `np.expand_dims` mengambil dua argumen, yaitu array yang akan diubah dan posisi sumbu baru."
   ]
  },
  {
   "cell_type": "code",
   "execution_count": 5,
   "id": "5083c6aa",
   "metadata": {},
   "outputs": [
    {
     "name": "stdout",
     "output_type": "stream",
     "text": [
      "Original array shape: (5,)\n",
      "2D column vector shape: (5, 1)\n",
      "2D row vector shape: (1, 5)\n"
     ]
    }
   ],
   "source": [
    "import numpy as np\n",
    "\n",
    "# Buat array 1D\n",
    "arr = np.array([1, 2, 3, 4, 5])\n",
    "\n",
    "# Ubah ke 2D menggunakan np.expand_dims\n",
    "arr_2d_col = np.expand_dims(arr, axis=1)  # kolom vektor\n",
    "arr_2d_row = np.expand_dims(arr, axis=0)  # baris vektor\n",
    "\n",
    "print(\"Original array shape:\", arr.shape)\n",
    "print(\"2D column vector shape:\", arr_2d_col.shape)\n",
    "print(\"2D row vector shape:\", arr_2d_row.shape)"
   ]
  },
  {
   "cell_type": "code",
   "execution_count": 10,
   "id": "f22004b3",
   "metadata": {},
   "outputs": [
    {
     "data": {
      "text/plain": [
       "array([[1],\n",
       "       [2],\n",
       "       [3],\n",
       "       [4],\n",
       "       [5]])"
      ]
     },
     "execution_count": 10,
     "metadata": {},
     "output_type": "execute_result"
    }
   ],
   "source": [
    "arr_2d_col"
   ]
  },
  {
   "cell_type": "markdown",
   "id": "574281d8",
   "metadata": {},
   "source": [
    "Dalam kedua contoh di atas, kita berhasil mengubah array 1D menjadi array 2D menggunakan `np.newaxis` dan `np.expand_dims`. Dalam konteks tertentu, menggunakan `np.expand_dims` bisa lebih jelas dan eksplisit daripada menggunakan `np.newaxis`, terutama ketika bekerja dengan array yang memiliki lebih dari 2 dimensi."
   ]
  },
  {
   "cell_type": "markdown",
   "id": "85337d00",
   "metadata": {},
   "source": [
    "# Membuat Array Khusus"
   ]
  },
  {
   "cell_type": "markdown",
   "id": "b211970e",
   "metadata": {},
   "source": [
    "numpy.zeros(): Fungsi ini membuat array dengan semua elemen bernilai 0. Anda perlu menyediakan bentuk array yang diinginkan sebagai argumen.\n",
    "\n",
    "Contoh:"
   ]
  },
  {
   "cell_type": "code",
   "execution_count": 27,
   "id": "23049a21",
   "metadata": {},
   "outputs": [
    {
     "name": "stdout",
     "output_type": "stream",
     "text": [
      "[[0. 0. 0.]\n",
      " [0. 0. 0.]]\n"
     ]
    }
   ],
   "source": [
    "import numpy as np\n",
    "\n",
    "# Membuat array 2x3 dengan elemen 0\n",
    "zeros = np.zeros((2, 3))\n",
    "print(zeros)"
   ]
  },
  {
   "cell_type": "markdown",
   "id": "4541d85b",
   "metadata": {},
   "source": [
    "numpy.ones(): Fungsi ini membuat array dengan semua elemen bernilai 1. Anda perlu menyediakan bentuk array yang diinginkan sebagai argumen.\n",
    "\n",
    "Contoh:"
   ]
  },
  {
   "cell_type": "code",
   "execution_count": 28,
   "id": "4a9e5a3a",
   "metadata": {},
   "outputs": [
    {
     "name": "stdout",
     "output_type": "stream",
     "text": [
      "[[1. 1. 1.]\n",
      " [1. 1. 1.]]\n"
     ]
    }
   ],
   "source": [
    "import numpy as np\n",
    "\n",
    "# Membuat array 2x3 dengan elemen 1\n",
    "ones = np.ones((2, 3))\n",
    "print(ones)\n"
   ]
  },
  {
   "cell_type": "markdown",
   "id": "8828855c",
   "metadata": {},
   "source": [
    "numpy.full(): Fungsi ini membuat array dengan semua elemen bernilai sama. Anda perlu menyediakan bentuk array yang diinginkan dan nilai elemen yang diinginkan sebagai argumen.\n",
    "\n",
    "Contoh:"
   ]
  },
  {
   "cell_type": "code",
   "execution_count": 29,
   "id": "7d35fd20",
   "metadata": {},
   "outputs": [
    {
     "name": "stdout",
     "output_type": "stream",
     "text": [
      "[[7 7 7]\n",
      " [7 7 7]]\n"
     ]
    }
   ],
   "source": [
    "import numpy as np\n",
    "\n",
    "# Membuat array 2x3 dengan elemen 7\n",
    "full = np.full((2, 3), 7)\n",
    "print(full)\n"
   ]
  },
  {
   "cell_type": "markdown",
   "id": "d107bcc7",
   "metadata": {},
   "source": [
    "numpy.eye(): Fungsi ini membuat matriks identitas dengan ukuran yang ditentukan. Matriks identitas adalah matriks persegi dengan angka 1 pada diagonal dan angka 0 pada elemen lainnya.\n",
    "\n",
    "Contoh:"
   ]
  },
  {
   "cell_type": "code",
   "execution_count": 30,
   "id": "60c4d524",
   "metadata": {},
   "outputs": [
    {
     "name": "stdout",
     "output_type": "stream",
     "text": [
      "[[1. 0. 0.]\n",
      " [0. 1. 0.]\n",
      " [0. 0. 1.]]\n"
     ]
    }
   ],
   "source": [
    "import numpy as np\n",
    "\n",
    "# Membuat matriks identitas 3x3\n",
    "eye = np.eye(3)\n",
    "print(eye)\n"
   ]
  },
  {
   "cell_type": "markdown",
   "id": "9d0a3618",
   "metadata": {},
   "source": [
    "numpy.arange(): Fungsi ini membuat array dengan rentang angka spesifik. Anda perlu menyediakan nilai awal, nilai akhir, dan langkah sebagai argumen.\n",
    "\n",
    "Contoh:"
   ]
  },
  {
   "cell_type": "code",
   "execution_count": 45,
   "id": "020fa0b4",
   "metadata": {},
   "outputs": [
    {
     "name": "stdout",
     "output_type": "stream",
     "text": [
      "[0 1 2 3 4 5 6 7 8 9]\n"
     ]
    }
   ],
   "source": [
    "import numpy as np\n",
    "\n",
    "# Membuat array dengan rentang angka 0 hingga 9 (tidak termasuk 10), dengan langkah 1\n",
    "arange = np.arange(0, 10, 1)\n",
    "print(arange)\n"
   ]
  },
  {
   "cell_type": "markdown",
   "id": "1e64720b",
   "metadata": {},
   "source": [
    "numpy.linspace(): Fungsi ini membuat array dengan jumlah angka yang sama antara dua nilai. Anda perlu menyediakan nilai awal, nilai akhir, dan jumlah elemen yang diinginkan sebagai argumen.\n",
    "\n",
    "Contoh:"
   ]
  },
  {
   "cell_type": "code",
   "execution_count": 48,
   "id": "07dc764a",
   "metadata": {},
   "outputs": [
    {
     "name": "stdout",
     "output_type": "stream",
     "text": [
      "[0.   0.25 0.5  0.75 1.  ]\n"
     ]
    }
   ],
   "source": [
    "import numpy as np\n",
    "\n",
    "# Membuat array dengan 5 angka, sama jarak antara 0 dan 1\n",
    "linspace = np.linspace(0, 1, 5)\n",
    "print(linspace)\n"
   ]
  },
  {
   "cell_type": "markdown",
   "id": "354eea7f",
   "metadata": {},
   "source": [
    "Dengan memahami cara membuat array khusus ini, Anda dapat menghasilkan data awal untuk berbagai kasus penggunaan, seperti inisialisasi bobot dalam machine learning atau menghasilkan data testing."
   ]
  },
  {
   "cell_type": "markdown",
   "id": "5ff5682c",
   "metadata": {},
   "source": [
    "# Operasi Matematika pada Array\n",
    "NumPy menyediakan berbagai operasi matematika dan aritmatika yang dapat dilakukan pada array. Beberapa operasi dasar yang dapat Anda lakukan meliputi:"
   ]
  },
  {
   "cell_type": "markdown",
   "id": "1a8c698e",
   "metadata": {},
   "source": [
    "Penjumlahan dan Pengurangan Array anda dapat menjumlahkan dan mengurangkan array dengan ukuran yang sama dengan menggunakan operator + dan -.\n",
    "Contoh:"
   ]
  },
  {
   "cell_type": "code",
   "execution_count": 33,
   "id": "d77cea76",
   "metadata": {},
   "outputs": [
    {
     "name": "stdout",
     "output_type": "stream",
     "text": [
      "a + b: [5 7 9]\n",
      "a - b: [-3 -3 -3]\n"
     ]
    }
   ],
   "source": [
    "import numpy as np\n",
    "\n",
    "a = np.array([1, 2, 3])\n",
    "b = np.array([4, 5, 6])\n",
    "\n",
    "# Penjumlahan array\n",
    "c = a + b\n",
    "print(\"a + b:\", c)\n",
    "\n",
    "# Pengurangan array\n",
    "d = a - b\n",
    "print(\"a - b:\", d)\n"
   ]
  },
  {
   "cell_type": "markdown",
   "id": "b8b52dc0",
   "metadata": {},
   "source": [
    "Perkalian dan Pembagian Array: Anda dapat mengalikan dan membagi elemen dalam array dengan menggunakan operator * dan /.\n",
    "\n",
    "Contoh:"
   ]
  },
  {
   "cell_type": "code",
   "execution_count": 34,
   "id": "eaa47720",
   "metadata": {},
   "outputs": [
    {
     "name": "stdout",
     "output_type": "stream",
     "text": [
      "a * b: [ 4 10 18]\n",
      "a / b: [0.25 0.4  0.5 ]\n"
     ]
    }
   ],
   "source": [
    "import numpy as np\n",
    "\n",
    "a = np.array([1, 2, 3])\n",
    "b = np.array([4, 5, 6])\n",
    "\n",
    "# Perkalian elemen array\n",
    "c = a * b\n",
    "print(\"a * b:\", c)\n",
    "\n",
    "# Pembagian elemen array\n",
    "d = a / b\n",
    "print(\"a / b:\", d)\n"
   ]
  },
  {
   "cell_type": "markdown",
   "id": "40c04762",
   "metadata": {},
   "source": [
    "Operasi skalar: Anda dapat melakukan operasi aritmatika dengan skalar (angka tunggal) dan array. Operasi ini akan diterapkan pada setiap elemen array.\n",
    "\n",
    "Contoh:"
   ]
  },
  {
   "cell_type": "code",
   "execution_count": 35,
   "id": "fb10372e",
   "metadata": {},
   "outputs": [
    {
     "name": "stdout",
     "output_type": "stream",
     "text": [
      "a + 5: [6 7 8]\n",
      "a * 2: [2 4 6]\n"
     ]
    }
   ],
   "source": [
    "import numpy as np\n",
    "\n",
    "a = np.array([1, 2, 3])\n",
    "\n",
    "# Menambahkan skalar ke array\n",
    "b = a + 5\n",
    "print(\"a + 5:\", b)\n",
    "\n",
    "# Mengalikan array dengan skalar\n",
    "c = a * 2\n",
    "print(\"a * 2:\", c)\n"
   ]
  },
  {
   "cell_type": "markdown",
   "id": "d7f69700",
   "metadata": {},
   "source": [
    "Fungsi matematika: NumPy menyediakan berbagai fungsi matematika yang dapat diterapkan pada array, seperti numpy.exp(), numpy.sqrt(), dan numpy.sin().\n",
    "\n",
    "Contoh:"
   ]
  },
  {
   "cell_type": "code",
   "execution_count": 36,
   "id": "bf05d9c1",
   "metadata": {},
   "outputs": [
    {
     "name": "stdout",
     "output_type": "stream",
     "text": [
      "exp(a): [ 2.71828183  7.3890561  20.08553692]\n",
      "sqrt(a): [1.         1.41421356 1.73205081]\n",
      "sin(a): [0.84147098 0.90929743 0.14112001]\n"
     ]
    }
   ],
   "source": [
    "import numpy as np\n",
    "\n",
    "a = np.array([1, 2, 3])\n",
    "\n",
    "# Menghitung eksponensial setiap elemen array\n",
    "b = np.exp(a)\n",
    "print(\"exp(a):\", b)\n",
    "\n",
    "# Menghitung akar kuadrat setiap elemen array\n",
    "c = np.sqrt(a)\n",
    "print(\"sqrt(a):\", c)\n",
    "\n",
    "# Menghitung sinus setiap elemen array\n",
    "d = np.sin(a)\n",
    "print(\"sin(a):\", d)\n"
   ]
  },
  {
   "cell_type": "markdown",
   "id": "ee7bb5e5",
   "metadata": {},
   "source": [
    "Agregasi: Anda dapat menghitung statistik agregat pada array, seperti jumlah, rata-rata, dan nilai maksimum dengan menggunakan fungsi seperti numpy.sum(), numpy.mean(), dan numpy.max().\n",
    "\n",
    "Contoh:"
   ]
  },
  {
   "cell_type": "code",
   "execution_count": 37,
   "id": "4ee9a1e2",
   "metadata": {},
   "outputs": [
    {
     "name": "stdout",
     "output_type": "stream",
     "text": [
      "sum(a): 6\n",
      "mean(a): 2.0\n",
      "max(a): 3\n"
     ]
    }
   ],
   "source": [
    "import numpy as np\n",
    "\n",
    "a = np.array([1, 2, 3])\n",
    "\n",
    "# Menghitung jumlah elemen array\n",
    "total = np.sum(a)\n",
    "print(\"sum(a):\", total)\n",
    "\n",
    "# Menghitung rata-rata elemen array\n",
    "mean = np.mean(a)\n",
    "print(\"mean(a):\", mean)\n",
    "\n",
    "# Menghitung nilai maksimum dalam array\n",
    "max_value = np.max(a)\n",
    "print(\"max(a):\", max_value)\n"
   ]
  },
  {
   "cell_type": "markdown",
   "id": "cdbf06e5",
   "metadata": {},
   "source": [
    "## Specify the axis"
   ]
  },
  {
   "cell_type": "markdown",
   "id": "d7847822",
   "metadata": {},
   "source": [
    "**Operasi Matematika pada Array 1D**\n",
    "\n",
    "Misalnya, kita bisa melakukan penjumlahan, pengurangan, perkalian, dan pembagian antara array 1D dengan mudah.\n"
   ]
  },
  {
   "cell_type": "code",
   "execution_count": 49,
   "id": "8601456f",
   "metadata": {},
   "outputs": [
    {
     "name": "stdout",
     "output_type": "stream",
     "text": [
      "Penjumlahan:  [ 6  8 10 12]\n",
      "Pengurangan:  [-4 -4 -4 -4]\n",
      "Perkalian:  [ 5 12 21 32]\n",
      "Pembagian:  [0.2        0.33333333 0.42857143 0.5       ]\n"
     ]
    }
   ],
   "source": [
    "import numpy as np\n",
    "\n",
    "# Membuat dua array 1D\n",
    "arr1 = np.array([1, 2, 3, 4])\n",
    "arr2 = np.array([5, 6, 7, 8])\n",
    "\n",
    "# Melakukan operasi matematika\n",
    "print(\"Penjumlahan: \", arr1 + arr2)\n",
    "print(\"Pengurangan: \", arr1 - arr2)\n",
    "print(\"Perkalian: \", arr1 * arr2)\n",
    "print(\"Pembagian: \", arr1 / arr2)"
   ]
  },
  {
   "cell_type": "markdown",
   "id": "c8666cc6",
   "metadata": {},
   "source": [
    "**Operasi Matematika pada Array 2D**\n",
    "\n",
    "Operasi matematika juga bisa dilakukan pada array 2D. Anda bisa melakukan operasi aritmatika antara dua array 2D dengan bentuk yang sama."
   ]
  },
  {
   "cell_type": "code",
   "execution_count": 50,
   "id": "5e77a235",
   "metadata": {},
   "outputs": [
    {
     "name": "stdout",
     "output_type": "stream",
     "text": [
      "Penjumlahan: \n",
      " [[ 6  8]\n",
      " [10 12]]\n",
      "Pengurangan: \n",
      " [[-4 -4]\n",
      " [-4 -4]]\n",
      "Perkalian: \n",
      " [[ 5 12]\n",
      " [21 32]]\n",
      "Pembagian: \n",
      " [[0.2        0.33333333]\n",
      " [0.42857143 0.5       ]]\n"
     ]
    }
   ],
   "source": [
    "# Membuat dua array 2D\n",
    "arr1 = np.array([[1, 2], [3, 4]])\n",
    "arr2 = np.array([[5, 6], [7, 8]])\n",
    "\n",
    "# Melakukan operasi matematika\n",
    "print(\"Penjumlahan: \\n\", arr1 + arr2)\n",
    "print(\"Pengurangan: \\n\", arr1 - arr2)\n",
    "print(\"Perkalian: \\n\", arr1 * arr2)\n",
    "print(\"Pembagian: \\n\", arr1 / arr2)"
   ]
  },
  {
   "cell_type": "markdown",
   "id": "6cc9db69",
   "metadata": {},
   "source": [
    "**Spesifikasi Axis pada Array 2D**\n",
    "\n",
    "NumPy juga memungkinkan Anda untuk menentukan axis mana yang harus digunakan saat melakukan operasi pada array 2D. ***Axis 0 merujuk ke arah baris (vertikal), dan axis 1 merujuk ke arah kolom (horizontal).***\n",
    "\n",
    "Berikut adalah contoh penggunaan axis pada operasi sum:"
   ]
  },
  {
   "cell_type": "code",
   "execution_count": 11,
   "id": "5cbd8220",
   "metadata": {},
   "outputs": [
    {
     "name": "stdout",
     "output_type": "stream",
     "text": [
      "Penjumlahan pada axis 0:  [5 7 9]\n",
      "Penjumlahan pada axis 1:  [ 6 15]\n"
     ]
    }
   ],
   "source": [
    "# Membuat array 2D\n",
    "arr = np.array([[1, 2, 3], \n",
    "                [4, 5, 6]])\n",
    "\n",
    "# Melakukan penjumlahan pada axis 0 (menjumlahkan setiap kolom)\n",
    "print(\"Penjumlahan pada axis 0: \", arr.sum(axis=0))\n",
    "\n",
    "# Melakukan penjumlahan pada axis 1 (menjumlahkan setiap baris)\n",
    "print(\"Penjumlahan pada axis 1: \", arr.sum(axis=1))"
   ]
  },
  {
   "cell_type": "code",
   "execution_count": 12,
   "id": "1fde9107",
   "metadata": {},
   "outputs": [
    {
     "data": {
      "text/plain": [
       "(2, 3)"
      ]
     },
     "execution_count": 12,
     "metadata": {},
     "output_type": "execute_result"
    }
   ],
   "source": [
    "arr.shape"
   ]
  },
  {
   "cell_type": "markdown",
   "id": "a24ea51e",
   "metadata": {},
   "source": [
    "Demikian juga, kita bisa menggunakan axis pada operasi lain seperti `mean`, `min`, `max`, dll."
   ]
  },
  {
   "cell_type": "code",
   "execution_count": null,
   "id": "85d213da",
   "metadata": {},
   "outputs": [],
   "source": [
    "# Menghitung mean pada axis 0\n",
    "print(\"Mean pada axis 0: \", arr.mean(axis=0))\n",
    "\n",
    "# Menghitung min pada axis 1\n",
    "print(\"Min pada axis 1: \", arr.min(axis=1))"
   ]
  },
  {
   "cell_type": "markdown",
   "id": "ea490545",
   "metadata": {},
   "source": [
    "Harap diingat bahwa ketika kita melakukan operasi pada suatu axis, dimensi tersebut akan hilang dari bentuk array. Misalnya, jika kita melakukan `arr.sum(axis=0)` pada array dengan bentuk `(3, 2)`, hasilnya akan berbentuk `(2,)` karena kita melakukan operasi sepanjang axis 0 dan menghilangkan dimensi tersebut."
   ]
  },
  {
   "cell_type": "markdown",
   "id": "c435fe47",
   "metadata": {},
   "source": [
    "# Operasi Aljabar Linear\n",
    "NumPy menyediakan modul numpy.linalg yang berisi berbagai fungsi untuk melakukan operasi aljabar linear pada array. Beberapa fungsi penting dalam modul ini meliputi:"
   ]
  },
  {
   "cell_type": "markdown",
   "id": "24c42c59",
   "metadata": {},
   "source": [
    "Penjumlahan Matriks: Anda dapat menjumlahkan matriks dengan ukuran yang sama dengan menggunakan operator +.\n",
    "\n",
    "Contoh:"
   ]
  },
  {
   "cell_type": "code",
   "execution_count": 38,
   "id": "cdc22d84",
   "metadata": {},
   "outputs": [
    {
     "name": "stdout",
     "output_type": "stream",
     "text": [
      "[[ 6  8]\n",
      " [10 12]]\n"
     ]
    }
   ],
   "source": [
    "import numpy as np\n",
    "\n",
    "A = np.array([[1, 2], \n",
    "              [3, 4]])\n",
    "\n",
    "B = np.array([[5, 6], \n",
    "              [7, 8]])\n",
    "\n",
    "# Penjumlahan matriks\n",
    "C = A + B\n",
    "print(C)\n"
   ]
  },
  {
   "cell_type": "markdown",
   "id": "ed5a078e",
   "metadata": {},
   "source": [
    "Perkalian Matriks: Anda dapat mengalikan dua matriks yang sesuai dengan menggunakan fungsi numpy.dot() atau operator @.\n",
    "\n",
    "Contoh:"
   ]
  },
  {
   "cell_type": "code",
   "execution_count": 51,
   "id": "599a526a",
   "metadata": {},
   "outputs": [
    {
     "name": "stdout",
     "output_type": "stream",
     "text": [
      "[[19 22]\n",
      " [43 50]]\n",
      "[[19 22]\n",
      " [43 50]]\n"
     ]
    }
   ],
   "source": [
    "import numpy as np\n",
    "\n",
    "A = np.array([[1, 2], \n",
    "              [3, 4]])\n",
    "\n",
    "B = np.array([[5, 6], \n",
    "              [7, 8]])\n",
    "\n",
    "# Perkalian matriks menggunakan numpy.dot()\n",
    "C = np.dot(A, B)\n",
    "print(C)\n",
    "\n",
    "# Perkalian matriks menggunakan operator @\n",
    "D = A @ B\n",
    "print(D)\n"
   ]
  },
  {
   "cell_type": "markdown",
   "id": "7554bea8",
   "metadata": {},
   "source": [
    "Transpose Matriks: Anda dapat mentranspose matriks (menukar baris dan kolom) dengan menggunakan atribut T atau fungsi numpy.transpose().\n",
    "\n",
    "Contoh:"
   ]
  },
  {
   "cell_type": "code",
   "execution_count": 40,
   "id": "4315bb26",
   "metadata": {},
   "outputs": [
    {
     "name": "stdout",
     "output_type": "stream",
     "text": [
      "[[1 3]\n",
      " [2 4]]\n",
      "[[1 3]\n",
      " [2 4]]\n"
     ]
    }
   ],
   "source": [
    "import numpy as np\n",
    "\n",
    "A = np.array([[1, 2], [3, 4]])\n",
    "\n",
    "# Transpose matriks menggunakan atribut T\n",
    "B = A.T\n",
    "print(B)\n",
    "\n",
    "# Transpose matriks menggunakan numpy.transpose()\n",
    "C = np.transpose(A)\n",
    "print(C)\n"
   ]
  },
  {
   "cell_type": "markdown",
   "id": "a2e604d2",
   "metadata": {},
   "source": [
    "# Add, Remove, and Sort (Menambahkan, Menghapus, dan Mengurutkan Elemen)"
   ]
  },
  {
   "cell_type": "markdown",
   "id": "d74cfe5e",
   "metadata": {},
   "source": [
    "**Menambahkan Elemen**\n",
    "\n",
    "Dalam numpy, Anda bisa menambahkan elemen ke array menggunakan fungsi `numpy.append()`. Berikut contohnya:"
   ]
  },
  {
   "cell_type": "code",
   "execution_count": 52,
   "id": "4094cda0",
   "metadata": {},
   "outputs": [
    {
     "name": "stdout",
     "output_type": "stream",
     "text": [
      "Sebelum ditambahkan elemen:  [1 2 3 4 5]\n",
      "Setelah ditambahkan elemen:  [1 2 3 4 5 6 7 8]\n"
     ]
    }
   ],
   "source": [
    "arr = np.array([1, 2, 3, 4, 5])\n",
    "print(\"Sebelum ditambahkan elemen: \", arr)\n",
    "    \n",
    "arr = np.append(arr, [6, 7, 8])\n",
    "print(\"Setelah ditambahkan elemen: \", arr)"
   ]
  },
  {
   "cell_type": "markdown",
   "id": "7c249436",
   "metadata": {},
   "source": [
    "**Menghapus Elemen**\n",
    "\n",
    "Anda bisa menggunakan fungsi `numpy.delete()` untuk menghapus elemen dari array. Berikut contohnya:"
   ]
  },
  {
   "cell_type": "code",
   "execution_count": 53,
   "id": "76fe98de",
   "metadata": {},
   "outputs": [
    {
     "name": "stdout",
     "output_type": "stream",
     "text": [
      "Sebelum dihapus elemen:  [1 2 3 4 5]\n",
      "Setelah dihapus elemen:  [1 2 4 5]\n"
     ]
    }
   ],
   "source": [
    "arr = np.array([1, 2, 3, 4, 5])\n",
    "print(\"Sebelum dihapus elemen: \", arr)\n",
    "\n",
    "arr = np.delete(arr, 2)\n",
    "print(\"Setelah dihapus elemen: \", arr)"
   ]
  },
  {
   "cell_type": "markdown",
   "id": "34e92c36",
   "metadata": {},
   "source": [
    "**Mengurutkan Elemen**\n",
    "\n",
    "Anda bisa mengurutkan elemen dalam array menggunakan fungsi `numpy.sort()`. Berikut contohnya:"
   ]
  },
  {
   "cell_type": "code",
   "execution_count": 54,
   "id": "4e77141f",
   "metadata": {},
   "outputs": [
    {
     "name": "stdout",
     "output_type": "stream",
     "text": [
      "Sebelum diurutkan:  [5 2 3 1 4]\n",
      "Setelah diurutkan:  [1 2 3 4 5]\n"
     ]
    }
   ],
   "source": [
    "arr = np.array([5, 2, 3, 1, 4])\n",
    "print(\"Sebelum diurutkan: \", arr)\n",
    "\n",
    "arr = np.sort(arr)\n",
    "print(\"Setelah diurutkan: \", arr)"
   ]
  },
  {
   "cell_type": "markdown",
   "id": "9615a054",
   "metadata": {},
   "source": [
    "Pada setiap operasi, pastikan Anda memahami bahwa operasi tersebut tidak mengubah array asli, tetapi menghasilkan array baru. Jika Anda ingin operasi tersebut mengubah array asli, Anda harus menugaskan hasilnya kembali ke variabel array tersebut."
   ]
  },
  {
   "cell_type": "markdown",
   "id": "491236f0",
   "metadata": {},
   "source": [
    "# Indexing dan Slicing\n",
    "Dalam NumPy, Anda dapat mengakses elemen-elemen dalam array menggunakan indeks dan melakukan slicing untuk mengambil sebagian dari array. Berikut beberapa konsep dasar tentang indexing dan slicing pada array NumPy:"
   ]
  },
  {
   "cell_type": "markdown",
   "id": "eb8f74a4",
   "metadata": {},
   "source": [
    "## Indexing"
   ]
  },
  {
   "cell_type": "markdown",
   "id": "28d758ec",
   "metadata": {},
   "source": [
    "Indexing: Anda dapat mengakses elemen array berdasarkan indeksnya, yang dimulai dari 0. Pada array multidimensi, Anda menggunakan tanda koma untuk memisahkan indeks setiap dimensi.\n",
    "\n",
    "Contoh:"
   ]
  },
  {
   "cell_type": "code",
   "execution_count": 57,
   "id": "86ffdb36",
   "metadata": {},
   "outputs": [
    {
     "name": "stdout",
     "output_type": "stream",
     "text": [
      "1\n",
      "6\n"
     ]
    }
   ],
   "source": [
    "import numpy as np\n",
    "\n",
    "# Contoh 1D:\n",
    "a = np.array([1, 2, 3, 4, 5])\n",
    "\n",
    "# Mengakses elemen pada indeks 0\n",
    "print(a[0])\n",
    "\n",
    "#Contoh 2D:\n",
    "b = np.array([[1, 2, 3], \n",
    "              [4, 5, 6], \n",
    "              [7, 8, 9]])\n",
    "\n",
    "# Mengakses elemen pada baris 1, kolom 2\n",
    "print(b[1, 2])\n"
   ]
  },
  {
   "cell_type": "markdown",
   "id": "e79f86f7",
   "metadata": {},
   "source": [
    "Slicing: Anda dapat mengambil sebagian dari array dengan menggunakan slicing. Slicing menggunakan notasi [start:stop:step], di mana start adalah indeks awal (inklusif), stop adalah indeks akhir (eksklusif), dan step adalah jarak antara elemen.\n",
    "\n",
    "Contoh:"
   ]
  },
  {
   "cell_type": "code",
   "execution_count": 58,
   "id": "72f1d73f",
   "metadata": {},
   "outputs": [
    {
     "name": "stdout",
     "output_type": "stream",
     "text": [
      "[2 3 4]\n",
      "[[2 3]\n",
      " [5 6]]\n"
     ]
    }
   ],
   "source": [
    "import numpy as np\n",
    "\n",
    "#Contoh 1D:\n",
    "a = np.array([1, 2, 3, 4, 5])\n",
    "\n",
    "# Mengambil elemen dari indeks 1 hingga 4 (eksklusif)\n",
    "print(a[1:4])\n",
    "\n",
    "# Contoh 2D:\n",
    "b = np.array([[1, 2, 3], \n",
    "              [4, 5, 6], \n",
    "              [7, 8, 9]])\n",
    "\n",
    "# Mengambil baris 0 hingga 2 (eksklusif) dan kolom 1 hingga 3 (eksklusif)\n",
    "print(b[0:2, 1:3])\n"
   ]
  },
  {
   "cell_type": "markdown",
   "id": "1572473b",
   "metadata": {},
   "source": [
    "Indexing dan slicing dengan boolean: Anda juga dapat melakukan indexing dan slicing dengan menggunakan array boolean sebagai mask. Ini memungkinkan Anda untuk memilih elemen yang memenuhi kondisi tertentu.\n",
    "\n",
    "Contoh:"
   ]
  },
  {
   "cell_type": "code",
   "execution_count": 43,
   "id": "697a058d",
   "metadata": {},
   "outputs": [
    {
     "name": "stdout",
     "output_type": "stream",
     "text": [
      "[False False  True  True  True]\n",
      "[3 4 5]\n"
     ]
    }
   ],
   "source": [
    "import numpy as np\n",
    "\n",
    "a = np.array([1, 2, 3, 4, 5])\n",
    "\n",
    "# Membuat mask boolean untuk elemen yang lebih besar dari 2\n",
    "mask = a > 2\n",
    "print(mask)\n",
    "\n",
    "# Menggunakan mask boolean untuk mengambil elemen yang lebih besar dari 2\n",
    "print(a[mask])"
   ]
  },
  {
   "cell_type": "markdown",
   "id": "5921fa02",
   "metadata": {},
   "source": [
    "Dengan memahami teknik indexing dan slicing ini, Anda dapat mengakses dan memanipulasi bagian tertentu dari array NumPy dengan mudah. Hal ini sangat penting dalam analisis data, pemrosesan sinyal, dan berbagai aplikasi lain yang melibatkan manipulasi data dalam bentuk array."
   ]
  },
  {
   "cell_type": "markdown",
   "id": "9402226c",
   "metadata": {},
   "source": [
    "# Merge dan Splitting\n",
    "\n",
    "Dalam NumPy, Anda dapat menggabungkan beberapa array menjadi satu array atau membagi satu array menjadi beberapa array yang lebih kecil. Berikut beberapa konsep dasar tentang merge dan splitting pada array NumPy:"
   ]
  },
  {
   "cell_type": "markdown",
   "id": "a75e3752",
   "metadata": {},
   "source": [
    "## Penggabungan (Merge): \n",
    "\n",
    "Anda dapat menggabungkan dua atau lebih array menggunakan fungsi numpy.concatenate(), numpy.vstack(), atau numpy.hstack().\n",
    "\n",
    "- numpy.concatenate(): Menggabungkan array sepanjang sumbu yang diberikan.\n",
    "\n",
    "Contoh:"
   ]
  },
  {
   "cell_type": "code",
   "execution_count": 44,
   "id": "4a09704a",
   "metadata": {},
   "outputs": [
    {
     "name": "stdout",
     "output_type": "stream",
     "text": [
      "[1 2 3 4 5 6]\n"
     ]
    }
   ],
   "source": [
    "import numpy as np\n",
    "\n",
    "a = np.array([1, 2, 3])\n",
    "b = np.array([4, 5, 6])\n",
    "\n",
    "# Menggabungkan array a dan b sepanjang sumbu 0\n",
    "c = np.concatenate((a, b))\n",
    "print(c)  # Output: [1 2 3 4 5 6]\n"
   ]
  },
  {
   "cell_type": "markdown",
   "id": "55824904",
   "metadata": {},
   "source": [
    "numpy.vstack(): Menggabungkan array secara vertikal (sepanjang sumbu 0).\n",
    "\n",
    "Contoh:"
   ]
  },
  {
   "cell_type": "code",
   "execution_count": 60,
   "id": "801edd23",
   "metadata": {},
   "outputs": [
    {
     "name": "stdout",
     "output_type": "stream",
     "text": [
      "[[1 2]\n",
      " [3 4]\n",
      " [5 6]\n",
      " [7 8]]\n"
     ]
    }
   ],
   "source": [
    "import numpy as np\n",
    "\n",
    "a = np.array([[1, 2], \n",
    "              [3, 4]])\n",
    "\n",
    "b = np.array([[5, 6], \n",
    "              [7, 8]])\n",
    "\n",
    "# Menggabungkan array a dan b secara vertikal\n",
    "c = np.vstack((a, b))\n",
    "print(c)\n",
    "# Output:\n",
    "# [[1 2]\n",
    "#  [3 4]\n",
    "#  [5 6]\n",
    "#  [7 8]]\n"
   ]
  },
  {
   "cell_type": "markdown",
   "id": "25f191de",
   "metadata": {},
   "source": [
    "numpy.hstack(): Menggabungkan array secara horizontal (sepanjang sumbu 1).\n",
    "\n",
    "Contoh:"
   ]
  },
  {
   "cell_type": "code",
   "execution_count": 46,
   "id": "89f0fd1e",
   "metadata": {},
   "outputs": [
    {
     "name": "stdout",
     "output_type": "stream",
     "text": [
      "[[1 2 5 6]\n",
      " [3 4 7 8]]\n"
     ]
    }
   ],
   "source": [
    "import numpy as np\n",
    "\n",
    "a = np.array([[1, 2], [3, 4]])\n",
    "b = np.array([[5, 6], [7, 8]])\n",
    "\n",
    "# Menggabungkan array a dan b secara horizontal\n",
    "c = np.hstack((a, b))\n",
    "print(c)\n",
    "# Output:\n",
    "# [[1 2 5 6]\n",
    "#  [3 4 7 8]]\n"
   ]
  },
  {
   "cell_type": "markdown",
   "id": "006c4c2d",
   "metadata": {},
   "source": [
    "Pemisahan (Splitting): Anda dapat membagi satu array menjadi beberapa array yang lebih kecil menggunakan fungsi numpy.split(), numpy.vsplit(), atau numpy.hsplit().\n",
    "\n",
    "numpy.split(): Memisahkan array menjadi beberapa array sepanjang sumbu yang diberikan.\n",
    "\n",
    "Contoh:"
   ]
  },
  {
   "cell_type": "code",
   "execution_count": 63,
   "id": "4eaedf2e",
   "metadata": {},
   "outputs": [
    {
     "name": "stdout",
     "output_type": "stream",
     "text": [
      "[array([1, 2]), array([3, 4]), array([5, 6])]\n"
     ]
    }
   ],
   "source": [
    "import numpy as np\n",
    "\n",
    "a = np.array([1, 2, 3, 4, 5, 6])\n",
    "\n",
    "# Memisahkan array a menjadi 3 array sepanjang sumbu 0\n",
    "b = np.split(a, 3)\n",
    "print(b)  # Output: [array([1, 2]), array([3, 4]), array([5, 6])]\n"
   ]
  },
  {
   "cell_type": "markdown",
   "id": "651753b2",
   "metadata": {},
   "source": [
    "numpy.vsplit(): Memisahkan array secara vertikal (sepanjang sumbu 0).\n",
    "\n",
    "Contoh:"
   ]
  },
  {
   "cell_type": "code",
   "execution_count": 48,
   "id": "586b9b7c",
   "metadata": {},
   "outputs": [
    {
     "name": "stdout",
     "output_type": "stream",
     "text": [
      "[array([[1, 2],\n",
      "       [3, 4]]), array([[5, 6],\n",
      "       [7, 8]])]\n"
     ]
    }
   ],
   "source": [
    "import numpy as np\n",
    "\n",
    "a = np.array([[1, 2], \n",
    "              [3, 4], \n",
    "              [5, 6], \n",
    "              [7, 8]])\n",
    "\n",
    "# Memisahkan array a menjadi 2 array secara vertikal\n",
    "b = np.vsplit(a, 2)\n",
    "print(b)\n"
   ]
  },
  {
   "cell_type": "markdown",
   "id": "e210ec2e",
   "metadata": {},
   "source": [
    "numpy.hsplit(): Memisahkan array secara horizontal (sepanjang sumbu 1).\n",
    "\n",
    "Contoh:"
   ]
  },
  {
   "cell_type": "code",
   "execution_count": 50,
   "id": "382ceadf",
   "metadata": {},
   "outputs": [
    {
     "name": "stdout",
     "output_type": "stream",
     "text": [
      "[array([[1, 2],\n",
      "       [5, 6]]), array([[3, 4],\n",
      "       [7, 8]])]\n"
     ]
    }
   ],
   "source": [
    "import numpy as np\n",
    "\n",
    "a = np.array([[1, 2, 3, 4], \n",
    "              [5, 6, 7, 8]])\n",
    "\n",
    "# Memisahkan array a menjadi 2 array secara horizontal\n",
    "b = np.hsplit(a, 2)\n",
    "print(b)\n",
    "# Output: [array([[1, 2],\n",
    "#                [5, 6]]), \n",
    "#          array([[3, 4],\n",
    "#                [7, 8]])]"
   ]
  },
  {
   "cell_type": "markdown",
   "id": "65963aff",
   "metadata": {},
   "source": [
    "Dengan memahami teknik penggabungan dan pemisahan ini, Anda dapat menggabungkan dan membagi array NumPy dengan mudah. Hal ini sangat penting dalam analisis data, pemrosesan sinyal, dan berbagai aplikasi lain yang melibatkan manipulasi data dalam bentuk array."
   ]
  },
  {
   "cell_type": "markdown",
   "id": "f70fc227",
   "metadata": {},
   "source": [
    "# Soal\n",
    "- Atribut Array\n",
    "- Operasi Matematika"
   ]
  },
  {
   "cell_type": "markdown",
   "id": "80547381",
   "metadata": {},
   "source": [
    "## Atribut Array"
   ]
  },
  {
   "cell_type": "markdown",
   "id": "f6088f9b",
   "metadata": {},
   "source": [
    "***Atribut Array - shape***\n",
    "\n",
    "Soal 1.1:<br>\n",
    "Diberikan sebuah ndarray NumPy:"
   ]
  },
  {
   "cell_type": "code",
   "execution_count": 64,
   "id": "71d46b25",
   "metadata": {},
   "outputs": [
    {
     "data": {
      "text/plain": [
       "array([[1, 2, 3],\n",
       "       [4, 5, 6],\n",
       "       [7, 8, 9]])"
      ]
     },
     "execution_count": 64,
     "metadata": {},
     "output_type": "execute_result"
    }
   ],
   "source": [
    "import numpy as np\n",
    "arr = np.array([[1, 2, 3], \n",
    "                [4, 5, 6], \n",
    "                [7, 8, 9]])\n",
    "arr"
   ]
  },
  {
   "cell_type": "markdown",
   "id": "40ecb531",
   "metadata": {},
   "source": [
    "Apa bentuk (shape) dari array ini?"
   ]
  },
  {
   "cell_type": "code",
   "execution_count": 67,
   "id": "8a902abc",
   "metadata": {},
   "outputs": [
    {
     "data": {
      "text/plain": [
       "(3, 3)"
      ]
     },
     "execution_count": 67,
     "metadata": {},
     "output_type": "execute_result"
    }
   ],
   "source": [
    "np.shape(arr)"
   ]
  },
  {
   "cell_type": "markdown",
   "id": "fe0f0a2c",
   "metadata": {},
   "source": [
    "Matrix \"arr\" merupakan matrix 2D dengan dimensi (3,3) dimana terdapat 3 vektor dengan setiap vektor terdapat 3 elemen"
   ]
  },
  {
   "cell_type": "markdown",
   "id": "22e21544",
   "metadata": {},
   "source": [
    "Soal 1.2:<br>\n",
    "Diberikan sebuah ndarray NumPy:"
   ]
  },
  {
   "cell_type": "code",
   "execution_count": 68,
   "id": "020b2086",
   "metadata": {},
   "outputs": [
    {
     "data": {
      "text/plain": [
       "array([[[1, 2],\n",
       "        [3, 4]],\n",
       "\n",
       "       [[5, 6],\n",
       "        [7, 8]]])"
      ]
     },
     "execution_count": 68,
     "metadata": {},
     "output_type": "execute_result"
    }
   ],
   "source": [
    "import numpy as np\n",
    "arr = np.array([[[1, 2], \n",
    "                 [3, 4]], \n",
    "                 [[5, 6], \n",
    "                 [7, 8]]])\n",
    "arr"
   ]
  },
  {
   "cell_type": "markdown",
   "id": "96f41b5f",
   "metadata": {},
   "source": [
    "Apa bentuk (shape) dari array ini?"
   ]
  },
  {
   "cell_type": "code",
   "execution_count": 71,
   "id": "a0d53081",
   "metadata": {},
   "outputs": [
    {
     "data": {
      "text/plain": [
       "(2, 2, 2)"
      ]
     },
     "execution_count": 71,
     "metadata": {},
     "output_type": "execute_result"
    }
   ],
   "source": [
    "np.shape(arr)"
   ]
  },
  {
   "cell_type": "markdown",
   "id": "e9efc6f2",
   "metadata": {},
   "source": [
    "Matrix diatas merupakan matrix 3D dengan dimensi 2x2x2"
   ]
  },
  {
   "cell_type": "markdown",
   "id": "b3584d15",
   "metadata": {},
   "source": [
    "\n",
    "\n",
    "Soal 1.3:<br>\n",
    "Diberikan sebuah ndarray NumPy:"
   ]
  },
  {
   "cell_type": "code",
   "execution_count": 72,
   "id": "5d9ecc33",
   "metadata": {},
   "outputs": [],
   "source": [
    "import numpy as np\n",
    "arr = np.array([1, 2, 3, 4, 5])\n"
   ]
  },
  {
   "cell_type": "markdown",
   "id": "329d8362",
   "metadata": {},
   "source": [
    "Apa bentuk (shape) dari array ini?"
   ]
  },
  {
   "cell_type": "code",
   "execution_count": 74,
   "id": "73415ff0",
   "metadata": {},
   "outputs": [
    {
     "data": {
      "text/plain": [
       "(5,)"
      ]
     },
     "execution_count": 74,
     "metadata": {},
     "output_type": "execute_result"
    }
   ],
   "source": [
    "np.shape(arr)"
   ]
  },
  {
   "cell_type": "markdown",
   "id": "bd96f5fb",
   "metadata": {},
   "source": [
    "Di atas merupakan suatu vector atau matrix 1D dengan memiliki 5 elemen value."
   ]
  },
  {
   "cell_type": "markdown",
   "id": "9ea12931",
   "metadata": {},
   "source": [
    "***Atribut Array - ndim***\n",
    "\n",
    "Soal 2.1:<br>\n",
    "Diberikan sebuah ndarray NumPy:"
   ]
  },
  {
   "cell_type": "code",
   "execution_count": 76,
   "id": "76926426",
   "metadata": {},
   "outputs": [],
   "source": [
    "import numpy as np\n",
    "arr = np.array([[1, 2, 3], \n",
    "                [4, 5, 6], \n",
    "                [7, 8, 9]])"
   ]
  },
  {
   "cell_type": "markdown",
   "id": "5641a8d0",
   "metadata": {},
   "source": [
    "Berapa dimensi dari array ini?"
   ]
  },
  {
   "cell_type": "code",
   "execution_count": 77,
   "id": "293af274",
   "metadata": {},
   "outputs": [
    {
     "data": {
      "text/plain": [
       "2"
      ]
     },
     "execution_count": 77,
     "metadata": {},
     "output_type": "execute_result"
    }
   ],
   "source": [
    "np.ndim(arr) # Merupakan matriks 2D"
   ]
  },
  {
   "cell_type": "markdown",
   "id": "27e1b1a8",
   "metadata": {},
   "source": [
    "Soal 2.2:<br>\n",
    "Diberikan sebuah ndarray NumPy:"
   ]
  },
  {
   "cell_type": "code",
   "execution_count": 78,
   "id": "176f1719",
   "metadata": {},
   "outputs": [],
   "source": [
    "import numpy as np\n",
    "arr = np.array([[[1, 2], \n",
    "                 [3, 4]], \n",
    "                 [[5, 6], \n",
    "                  [7, 8]]])"
   ]
  },
  {
   "cell_type": "markdown",
   "id": "d6af246e",
   "metadata": {},
   "source": [
    "Berapa dimensi dari array ini?"
   ]
  },
  {
   "cell_type": "code",
   "execution_count": 79,
   "id": "9fa5ece2",
   "metadata": {},
   "outputs": [
    {
     "data": {
      "text/plain": [
       "3"
      ]
     },
     "execution_count": 79,
     "metadata": {},
     "output_type": "execute_result"
    }
   ],
   "source": [
    "np.ndim(arr) # Merupakan matriks 3D"
   ]
  },
  {
   "cell_type": "markdown",
   "id": "679eebd5",
   "metadata": {},
   "source": [
    "Soal 2.3:<br>\n",
    "Diberikan sebuah ndarray NumPy:"
   ]
  },
  {
   "cell_type": "code",
   "execution_count": 81,
   "id": "d0d1b472",
   "metadata": {},
   "outputs": [],
   "source": [
    "import numpy as np\n",
    "arr = np.array([1, 2, 3, 4, 5])\n"
   ]
  },
  {
   "cell_type": "markdown",
   "id": "41fdc0e7",
   "metadata": {},
   "source": [
    "Berapa dimensi dari array ini?"
   ]
  },
  {
   "cell_type": "code",
   "execution_count": 82,
   "id": "68c644d5",
   "metadata": {},
   "outputs": [
    {
     "data": {
      "text/plain": [
       "1"
      ]
     },
     "execution_count": 82,
     "metadata": {},
     "output_type": "execute_result"
    }
   ],
   "source": [
    "np.ndim(arr) # Merupakan suatu vector atau matrix 1D"
   ]
  },
  {
   "cell_type": "markdown",
   "id": "b6271066",
   "metadata": {},
   "source": [
    "***Atribut Array - size***\n",
    "\n",
    "Soal 3.1:<br>\n",
    "Diberikan sebuah ndarray NumPy:"
   ]
  },
  {
   "cell_type": "code",
   "execution_count": 83,
   "id": "8c8f25b0",
   "metadata": {},
   "outputs": [],
   "source": [
    "import numpy as np\n",
    "arr = np.array([[1, 2, 3], \n",
    "                [4, 5, 6], \n",
    "                [7, 8, 9]])\n"
   ]
  },
  {
   "cell_type": "markdown",
   "id": "7ebc0ffa",
   "metadata": {},
   "source": [
    "Berapa banyak elemen dalam array ini?"
   ]
  },
  {
   "cell_type": "code",
   "execution_count": 84,
   "id": "835cf1c0",
   "metadata": {},
   "outputs": [
    {
     "data": {
      "text/plain": [
       "9"
      ]
     },
     "execution_count": 84,
     "metadata": {},
     "output_type": "execute_result"
    }
   ],
   "source": [
    "np.size(arr) # memiliki total 9 elemen value di dalam matriks nya"
   ]
  },
  {
   "cell_type": "markdown",
   "id": "ae8a4836",
   "metadata": {},
   "source": [
    "Soal 3.2:<br>\n",
    "Diberikan sebuah ndarray NumPy:"
   ]
  },
  {
   "cell_type": "code",
   "execution_count": 85,
   "id": "2f4726f3",
   "metadata": {},
   "outputs": [],
   "source": [
    "import numpy as np\n",
    "arr = np.array([[[1, 2], \n",
    "                 [3, 4]], \n",
    "                [[5, 6], [7, 8]]])"
   ]
  },
  {
   "cell_type": "markdown",
   "id": "f80e2ac0",
   "metadata": {},
   "source": [
    "Berapa banyak elemen dalam array ini?"
   ]
  },
  {
   "cell_type": "code",
   "execution_count": 86,
   "id": "d765f51f",
   "metadata": {},
   "outputs": [
    {
     "data": {
      "text/plain": [
       "8"
      ]
     },
     "execution_count": 86,
     "metadata": {},
     "output_type": "execute_result"
    }
   ],
   "source": [
    "np.size(arr) # memiliki total 8 elemen value di dalam matriks nya"
   ]
  },
  {
   "cell_type": "markdown",
   "id": "170f15f4",
   "metadata": {},
   "source": [
    "Soal 3.3:<br>\n",
    "Diberikan sebuah ndarray NumPy:"
   ]
  },
  {
   "cell_type": "code",
   "execution_count": 87,
   "id": "16244d04",
   "metadata": {},
   "outputs": [],
   "source": [
    "import numpy as np\n",
    "arr = np.array([1, 2, 3, 4, 5])"
   ]
  },
  {
   "cell_type": "markdown",
   "id": "3dbacecd",
   "metadata": {},
   "source": [
    "Berapa banyak elemen dalam array ini?"
   ]
  },
  {
   "cell_type": "code",
   "execution_count": 88,
   "id": "3a45a09d",
   "metadata": {},
   "outputs": [
    {
     "data": {
      "text/plain": [
       "5"
      ]
     },
     "execution_count": 88,
     "metadata": {},
     "output_type": "execute_result"
    }
   ],
   "source": [
    "np.size(arr) # Memiliki total 5 elemen value di dalam matriks nya"
   ]
  },
  {
   "cell_type": "markdown",
   "id": "e26bb70a",
   "metadata": {},
   "source": [
    "***Atribut Array - dtype***\n",
    "\n",
    "Soal 4.1:<br>\n",
    "Diberikan sebuah ndarray NumPy:"
   ]
  },
  {
   "cell_type": "code",
   "execution_count": 91,
   "id": "58083fbb",
   "metadata": {},
   "outputs": [],
   "source": [
    "import numpy as np\n",
    "arr = np.array([[1, 2, 3], [4, 5, 6], [7, 8, 9]])\n"
   ]
  },
  {
   "cell_type": "markdown",
   "id": "9e86e300",
   "metadata": {},
   "source": [
    "Apa tipe data dari elemen dalam array ini?"
   ]
  },
  {
   "cell_type": "code",
   "execution_count": 94,
   "id": "dfca08ef",
   "metadata": {},
   "outputs": [
    {
     "name": "stdout",
     "output_type": "stream",
     "text": [
      "dtype: int32\n"
     ]
    }
   ],
   "source": [
    "print(\"dtype:\", arr.dtype) # elemen dalam array tersebut merupakan \"int32\""
   ]
  },
  {
   "cell_type": "markdown",
   "id": "7ae71b5e",
   "metadata": {},
   "source": [
    "Soal 4.2:<br>\n",
    "Diberikan sebuah ndarray NumPy:"
   ]
  },
  {
   "cell_type": "code",
   "execution_count": 95,
   "id": "336bc7d0",
   "metadata": {},
   "outputs": [],
   "source": [
    "import numpy as np\n",
    "arr = np.array([1.1, 2.2, 3.3, 4.4, 5.5])"
   ]
  },
  {
   "cell_type": "markdown",
   "id": "65b58440",
   "metadata": {},
   "source": [
    "Apa tipe data dari elemen dalam array ini?"
   ]
  },
  {
   "cell_type": "code",
   "execution_count": 96,
   "id": "b923e25c",
   "metadata": {},
   "outputs": [
    {
     "name": "stdout",
     "output_type": "stream",
     "text": [
      "dtype: float64\n"
     ]
    }
   ],
   "source": [
    "print(\"dtype:\", arr.dtype) # elemen dalam array tersebut merupakan \"float64\""
   ]
  },
  {
   "cell_type": "markdown",
   "id": "38d79912",
   "metadata": {},
   "source": [
    "## Operasi Matematika Array"
   ]
  },
  {
   "cell_type": "markdown",
   "id": "9c825b5b",
   "metadata": {},
   "source": [
    "Berikut adalah 10 soal mengenai operasi pada Array 1D dan 2D:\n",
    "\n",
    "**Soal 1:** Buatlah array 1D dengan NumPy berisi angka 1 sampai 10. Kemudian, tambahkan setiap elemen array tersebut dengan angka 5.\n",
    "\n",
    "**Soal 2:** Buatlah array 2D berukuran 3x3 dengan nilai dari 1 sampai 9. Lalu, kalikan setiap elemen array tersebut dengan 3.\n",
    "\n",
    "**Soal 3:** Diberikan dua array 1D sebagai berikut: `a = np.array([1, 2, 3, 4, 5])` dan `b = np.array([6, 7, 8, 9, 10])`. Hitunglah hasil penjumlahan array `a` dan `b`.\n",
    "\n",
    "**Soal 4:** Diberikan array 2D sebagai berikut: `A = np.array([[1, 2], [3, 4]])`. Hitunglah transpos dari array `A`.\n",
    "\n",
    "**Soal 5:** Diberikan dua array 2D sebagai berikut: `A = np.array([[1, 2], [3, 4]])` dan `B = np.array([[5, 6], [7, 8]])`. Hitunglah hasil perkalian matrix `A` dan `B`.\n",
    "\n",
    "**Soal 6:** Diberikan array 1D sebagai berikut: `a = np.array([1, 2, 3, 4, 5, 6])`. Ubahlah array `a` menjadi array 2D dengan 2 baris dan 3 kolom.\n",
    "\n",
    "**Soal 7:** Buatlah array 2D berukuran 4x4 dengan nilai acak antara 0 dan 1 menggunakan NumPy.\n",
    "\n",
    "**Soal 8:** Diberikan array 1D sebagai berikut: `a = np.array([1, 2, 3, 4, 5, 6])`. Hitunglah nilai rata-rata dari array `a`.\n",
    "\n",
    "**Soal 9:** Diberikan array 2D sebagai berikut: `A = np.array([[1, 2, 3], [4, 5, 6], [7, 8, 9]])`. Hitunglah jumlah dari setiap baris di array `A`.\n",
    "\n",
    "**Soal 10:** Diberikan array 2D sebagai berikut: `A = np.array([[1, 2, 3], [4, 5, 6], [7, 8, 9]])`. Hitunglah jumlah dari setiap kolom di array `A`.\n",
    "\n",
    "Masing-masing soal di atas melibatkan operasi pada array 1D atau 2D menggunakan NumPy, termasuk operasi aritmetika dasar, transpos matriks, perkalian matriks, reshaping array, dan operasi statistik dasar."
   ]
  },
  {
   "cell_type": "code",
   "execution_count": 101,
   "id": "08ed7284",
   "metadata": {},
   "outputs": [
    {
     "name": "stdout",
     "output_type": "stream",
     "text": [
      "Hasil sebelum ditambah 5 :  [ 1  2  3  4  5  6  7  8  9 10]\n",
      "Hasil sesudah ditambah 5 :  [ 6  7  8  9 10 11 12 13 14 15]\n"
     ]
    }
   ],
   "source": [
    "# JAWAB SOAL NO.1\n",
    "arr_a = np.arange(1,11)\n",
    "arr_a_5 = arr_a + 5\n",
    "print(\"Hasil sebelum ditambah 5 : \", arr_a)\n",
    "print(\"Hasil sesudah ditambah 5 : \" , arr_a_5)"
   ]
  },
  {
   "cell_type": "code",
   "execution_count": 100,
   "id": "4ba8301a",
   "metadata": {},
   "outputs": [
    {
     "name": "stdout",
     "output_type": "stream",
     "text": [
      "array awal:  [[1 2 3]\n",
      " [4 5 6]\n",
      " [7 8 9]]\n",
      "array kedua:  [[ 3  6  9]\n",
      " [12 15 18]\n",
      " [21 24 27]]\n"
     ]
    }
   ],
   "source": [
    "# JAWAB SOAL NO.2\n",
    "arr_awal = np.arange(1,10).reshape(3,3)\n",
    "print(\"array awal: \", arr_awal)\n",
    "\n",
    "arr_awal_multiply3 = arr_awal * 3\n",
    "print(\"array kedua: \", arr_awal_multiply3)"
   ]
  },
  {
   "cell_type": "code",
   "execution_count": 102,
   "id": "db8ee012",
   "metadata": {},
   "outputs": [
    {
     "name": "stdout",
     "output_type": "stream",
     "text": [
      "Hasil Penjumlahan a+b =  [ 7  9 11 13 15]\n"
     ]
    }
   ],
   "source": [
    "# JAWAB SOAL NO.3\n",
    "a = np.array([1, 2, 3, 4, 5])\n",
    "b = np.array([6, 7, 8, 9, 10])\n",
    "c = a + b\n",
    "print(\"Hasil Penjumlahan a+b = \", c)"
   ]
  },
  {
   "cell_type": "code",
   "execution_count": 103,
   "id": "f91b0f18",
   "metadata": {},
   "outputs": [
    {
     "name": "stdout",
     "output_type": "stream",
     "text": [
      "Hasil Transpose 1:  [[1 3]\n",
      " [2 4]]\n",
      "Hasil Transpose 2:  [[1 3]\n",
      " [2 4]]\n"
     ]
    }
   ],
   "source": [
    "# JAWAB SOAL NO.4\n",
    "A = np.array([[1, 2], [3, 4]])\n",
    "B = A.T\n",
    "print(\"Hasil Transpose 1: \", B)\n",
    "C = np.transpose(A)\n",
    "print(\"Hasil Transpose 2: \", C)"
   ]
  },
  {
   "cell_type": "code",
   "execution_count": 104,
   "id": "89a54d40",
   "metadata": {},
   "outputs": [
    {
     "name": "stdout",
     "output_type": "stream",
     "text": [
      "Hasil perkalian:  [[ 5 12]\n",
      " [21 32]]\n"
     ]
    }
   ],
   "source": [
    "# JAWAB SOAL NO.5\n",
    "A = np.array([[1, 2], [3, 4]])\n",
    "B = np.array([[5, 6], [7, 8]])\n",
    "C = A * B\n",
    "print(\"Hasil perkalian: \", C)"
   ]
  },
  {
   "cell_type": "code",
   "execution_count": 108,
   "id": "bf12935e",
   "metadata": {},
   "outputs": [
    {
     "name": "stdout",
     "output_type": "stream",
     "text": [
      "[[1 2 3]\n",
      " [4 5 6]]\n"
     ]
    }
   ],
   "source": [
    "# JAWAB SOAL NO.6\n",
    "a = np.array([1, 2, 3, 4, 5, 6])\n",
    "a_reshape = a.reshape(2,3)\n",
    "print(a_reshape)"
   ]
  },
  {
   "cell_type": "code",
   "execution_count": 109,
   "id": "cec7cec4",
   "metadata": {},
   "outputs": [
    {
     "name": "stdout",
     "output_type": "stream",
     "text": [
      "[[0.80679952 0.91224907 0.16843839 0.09476332]\n",
      " [0.44419352 0.58855082 0.39534852 0.34619142]\n",
      " [0.15901176 0.97533067 0.23941453 0.02349063]\n",
      " [0.38810349 0.9952773  0.99123769 0.96334823]]\n"
     ]
    }
   ],
   "source": [
    "# JAWAB SOAL NO.7\n",
    "arr_2d = np.random.rand(4, 4)\n",
    "print(arr_2d)"
   ]
  },
  {
   "cell_type": "code",
   "execution_count": 110,
   "id": "72733502",
   "metadata": {},
   "outputs": [
    {
     "data": {
      "text/plain": [
       "3.5"
      ]
     },
     "execution_count": 110,
     "metadata": {},
     "output_type": "execute_result"
    }
   ],
   "source": [
    "# JAWAB SOAL NO.8\n",
    "a = np.array([1, 2, 3, 4, 5, 6])\n",
    "np.mean(a)"
   ]
  },
  {
   "cell_type": "code",
   "execution_count": 111,
   "id": "26e73217",
   "metadata": {},
   "outputs": [
    {
     "data": {
      "text/plain": [
       "array([ 6, 15, 24])"
      ]
     },
     "execution_count": 111,
     "metadata": {},
     "output_type": "execute_result"
    }
   ],
   "source": [
    "# JAWAB SOAL NO.9\n",
    "A = np.array([[1, 2, 3], [4, 5, 6], [7, 8, 9]])\n",
    "np.sum(A, axis = 1)"
   ]
  },
  {
   "cell_type": "code",
   "execution_count": 112,
   "id": "4a2f8a9d",
   "metadata": {},
   "outputs": [
    {
     "data": {
      "text/plain": [
       "array([12, 15, 18])"
      ]
     },
     "execution_count": 112,
     "metadata": {},
     "output_type": "execute_result"
    }
   ],
   "source": [
    "# JAWAB SOAL NO.10\n",
    "A = np.array([[1, 2, 3], [4, 5, 6], [7, 8, 9]])\n",
    "np.sum(A, axis=0)"
   ]
  },
  {
   "cell_type": "markdown",
   "id": "ad69d347",
   "metadata": {},
   "source": [
    "**Soal 11:** Diberikan dua array 2D sebagai berikut: \n",
    "```python\n",
    "A = np.array([[1, 2, 3], [4, 5, 6]])\n",
    "B = np.array([[7, 8, 9], [10, 11, 12]])\n",
    "```\n",
    "Buatlah suatu array C dimana setiap elemennya merupakan hasil pengurangan elemen pada array B dengan elemen pada array A.\n",
    "\n",
    "**Soal 12:** Diberikan array 2D sebagai berikut: `A = np.array([[2, 7, 3], [9, 5, 4]])`. Urutkan setiap baris pada array A dari nilai terkecil hingga terbesar.\n",
    "\n",
    "**Soal 13:** Diberikan array 1D sebagai berikut: `A = np.array([5, 3, 9, 1, 8])`. Ubahlah array A menjadi array 2D berukuran 5x1.\n",
    "\n",
    "**Soal 14:** Diberikan array 2D sebagai berikut: `A = np.array([[1, 2, 3], [4, 5, 6]])`. Hitunglah nilai median dari setiap baris pada array A.\n",
    "\n",
    "**Soal 15:** Diberikan array 2D sebagai berikut: `A = np.array([[1, 2, 3], [4, 5, 6]])`. Lakukan normalisasi pada setiap baris pada array A, dimana setiap elemen dikurangi dengan nilai minimum dan dibagi dengan rentang nilai (nilai maksimum - nilai minimum).\n",
    "\n",
    "Masing-masing soal di atas melibatkan operasi yang lebih kompleks pada array 1D atau 2D, termasuk pengurangan array, pengurutan nilai, reshape array, dan normalisasi nilai."
   ]
  },
  {
   "cell_type": "code",
   "execution_count": 113,
   "id": "1d18a0ba",
   "metadata": {},
   "outputs": [
    {
     "name": "stdout",
     "output_type": "stream",
     "text": [
      "[[6 6 6]\n",
      " [6 6 6]]\n"
     ]
    }
   ],
   "source": [
    "# JAWAB SOAL NO.11\n",
    "A = np.array([[1, 2, 3], [4, 5, 6]])\n",
    "B = np.array([[7, 8, 9], [10, 11, 12]])\n",
    "C = B - A\n",
    "print(C)"
   ]
  },
  {
   "cell_type": "code",
   "execution_count": 115,
   "id": "5c77a7ba",
   "metadata": {},
   "outputs": [
    {
     "name": "stdout",
     "output_type": "stream",
     "text": [
      "Array tersorting:  [[2 3 7]\n",
      " [4 5 9]]\n"
     ]
    }
   ],
   "source": [
    "# JAWAB SOAL NO.12\n",
    "A = np.array([[2, 7, 3], [9, 5, 4]])\n",
    "B = np.sort(A)\n",
    "print(\"Array tersorting: \", B)"
   ]
  },
  {
   "cell_type": "code",
   "execution_count": 116,
   "id": "a847c575",
   "metadata": {},
   "outputs": [
    {
     "name": "stdout",
     "output_type": "stream",
     "text": [
      "Array reshape 5x1:  [[5]\n",
      " [3]\n",
      " [9]\n",
      " [1]\n",
      " [8]]\n"
     ]
    }
   ],
   "source": [
    "# JAWAB SOAL NO.13\n",
    "A = np.array([5, 3, 9, 1, 8])\n",
    "B = A.reshape(5,1)\n",
    "print(\"Array reshape 5x1: \", B)"
   ]
  },
  {
   "cell_type": "code",
   "execution_count": 118,
   "id": "1db1e4c8",
   "metadata": {},
   "outputs": [
    {
     "name": "stdout",
     "output_type": "stream",
     "text": [
      "Median setiap baris [2. 5.]\n"
     ]
    }
   ],
   "source": [
    "# JAWAB SOAL NO.14\n",
    "A = np.array([[1, 2, 3], [4, 5, 6]])\n",
    "print(\"Median setiap baris\", np.median(A, axis=1))"
   ]
  },
  {
   "cell_type": "code",
   "execution_count": 128,
   "id": "58d20c45",
   "metadata": {},
   "outputs": [
    {
     "name": "stdout",
     "output_type": "stream",
     "text": [
      "Nilai min:  [1 4]\n",
      "Nilai max:  [3 6]\n",
      "Normalised A:  [[0.  0.5 1. ]\n",
      " [0.  0.5 1. ]]\n"
     ]
    }
   ],
   "source": [
    "# JAWAB SOAL NO.15\n",
    "A = np.array([[1, 2, 3], [4, 5, 6]])\n",
    "min_baris = np.min(A, axis=1)\n",
    "print(\"Nilai min: \",min_baris)\n",
    "max_baris = np.max(A, axis=1)\n",
    "print(\"Nilai max: \",max_baris)\n",
    "# Menghitung normalisasi mencakup pengurangan dengan nilai minimun dan pembagian dengan rentang nilai max - nilai min\n",
    "normalise_A = (A - min_baris[:,np.newaxis])/(max_baris - min_baris)[:,np.newaxis]\n",
    "print(\"Normalised A: \", normalise_A)"
   ]
  }
 ],
 "metadata": {
  "kernelspec": {
   "display_name": "Python 3 (ipykernel)",
   "language": "python",
   "name": "python3"
  },
  "language_info": {
   "codemirror_mode": {
    "name": "ipython",
    "version": 3
   },
   "file_extension": ".py",
   "mimetype": "text/x-python",
   "name": "python",
   "nbconvert_exporter": "python",
   "pygments_lexer": "ipython3",
   "version": "3.9.16"
  },
  "toc": {
   "base_numbering": 1,
   "nav_menu": {},
   "number_sections": true,
   "sideBar": true,
   "skip_h1_title": false,
   "title_cell": "Table of Contents",
   "title_sidebar": "Contents",
   "toc_cell": false,
   "toc_position": {
    "height": "calc(100% - 180px)",
    "left": "10px",
    "top": "150px",
    "width": "455.278px"
   },
   "toc_section_display": true,
   "toc_window_display": true
  }
 },
 "nbformat": 4,
 "nbformat_minor": 5
}
